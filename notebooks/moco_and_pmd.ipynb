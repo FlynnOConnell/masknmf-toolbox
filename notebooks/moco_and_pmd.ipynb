{
 "cells": [
  {
   "cell_type": "markdown",
   "id": "62f93862-e7c1-43ee-959b-d72b06eb5f9c",
   "metadata": {},
   "source": [
    "# Interactive pipeline for motion correcting and denoising data\n",
    "\n",
    "## Run Motion Correction --> PMD and do visualization directly in this notebook"
   ]
  },
  {
   "cell_type": "code",
   "execution_count": 2,
   "id": "3d74b1dd-5336-4e55-9366-ded74bd6fbc5",
   "metadata": {},
   "outputs": [],
   "source": [
    "#Plotting and dataloading\n",
    "import tifffile\n",
    "import matplotlib.pyplot as plt\n",
    "import matplotlib.patches as patches\n",
    "from fastplotlib.widgets import ImageWidget\n",
    "\n",
    "#Backend functionality\n",
    "import jnormcorre as jnc\n",
    "import numpy as np\n",
    "import scipy\n",
    "import torch\n",
    "from scipy.signal import butter, filtfilt\n",
    "\n",
    "import localmd\n",
    "\n",
    "%load_ext autoreload\n",
    "%load_ext line_profiler"
   ]
  },
  {
   "cell_type": "markdown",
   "id": "07ff6300-b1f4-4023-a7d4-6c6a7e74420f",
   "metadata": {},
   "source": [
    "# Load the data. Note that our tools can also process full datasets without loading them into RAM."
   ]
  },
  {
   "cell_type": "code",
   "execution_count": 1,
   "id": "029f8c1c-441f-4475-ae18-598d2d123b11",
   "metadata": {},
   "outputs": [],
   "source": [
    "filename = \"/path/to/your/data/here.tiff\"\n",
    "raw_data_loader = tifffile.imread(filename).astype(\"float\")\n",
    "print(f\"The shape of the input data is {raw_data_loader.shape}\")"
   ]
  },
  {
   "cell_type": "markdown",
   "id": "4576d08e-6567-40f0-9def-27f1cacd547f",
   "metadata": {},
   "source": [
    "# Inspect the data and decide how to spatially and/or temporally crop it"
   ]
  },
  {
   "cell_type": "code",
   "execution_count": 4,
   "id": "f396c37a-984c-4245-967e-9569611bcbf5",
   "metadata": {},
   "outputs": [],
   "source": [
    "### Paramemters to modify:\n",
    "start, end = 150, 4800 #Temporally cropping the fov\n",
    "dim1_slice = [50, 838] #Trimming the \"height\" of the field of view\n",
    "dim2_slice = [50, 334] #Trimming the \"width\" of the field of view\n",
    "###\n",
    "\n",
    "\n",
    "#Temporal crop error handling\n",
    "start = max(0, start)\n",
    "end = min(end, raw_data_loader.shape[0])\n",
    "\n",
    "#Spatial crop error handling\n",
    "dim1_slice[0] = max(dim1_slice[0], 0)\n",
    "dim2_slice[0] = max(dim2_slice[0], 0)\n",
    "dim1_slice[1] = min(dim1_slice[1], raw_data_loader.shape[1])\n",
    "dim2_slice[1] = min(dim2_slice[1], raw_data_loader.shape[2])\n",
    "\n",
    "def max_roi_average(ndarray):\n",
    "    # Identify the brightest pixel in the first frame\n",
    "    brightest_pixel = np.unravel_index(np.argmax(ndarray[0]), ndarray[0].shape)\n",
    "    x, y = brightest_pixel\n",
    "\n",
    "    # Define the boundaries of the 3x3 ROI\n",
    "    x_min = max(x - 1, 0)\n",
    "    x_max = min(x + 2, ndarray.shape[1])\n",
    "    y_min = max(y - 1, 0)\n",
    "    y_max = min(y + 2, ndarray.shape[2])\n",
    "\n",
    "    # Extract the 3x3 ROI and compute the average over time\n",
    "    roi = ndarray[:, x_min:x_max, y_min:y_max]\n",
    "    roi_average = np.mean(roi, axis=(1, 2))\n",
    "\n",
    "    return roi_average\n",
    "\n",
    "\n",
    "\n",
    "representative_timeseries = max_roi_average(raw_data_loader)\n",
    "fig, ax = plt.subplots(1, 2, figsize=(18, 12))\n",
    "ax[0].plot(representative_timeseries)\n",
    "ax[0].set_title(\"Brightest ROI Timeseries: Proposed temporal crop\")\n",
    "ax[0].axvline(x=start, color='red', linestyle='--')\n",
    "ax[0].axvline(x=end, color='red', linestyle='--')\n",
    "\n",
    "mean_img = np.mean(raw_data_loader[:1000], axis = 0)\n",
    "ax[1].imshow(mean_img)\n",
    "\n",
    "rect = patches.Rectangle([dim1_slice[0], dim2_slice[0]], dim2_slice[1] - dim2_slice[0], dim1_slice[1] - dim1_slice[0], \n",
    "                         linewidth=1, edgecolor='r', facecolor='none')\n",
    "ax[1].add_patch(rect)\n",
    "ax[1].set_title(\"Proposed Spatial Crop\")\n",
    "plt.show()\n",
    "\n",
    "raw_dataloader_crop = raw_data_loader[start:end, dim1_slice[0]:dim1_slice[1], dim2_slice[0]:dim2_slice[1]]"
   ]
  },
  {
   "cell_type": "markdown",
   "id": "c6d4542f-d5ce-473f-9472-07045f92f219",
   "metadata": {},
   "source": [
    "# Run motion correction to identify the data template"
   ]
  },
  {
   "cell_type": "code",
   "execution_count": 2,
   "id": "33c2d99f-c8e6-4e62-9dc8-f3ab3cb0bb15",
   "metadata": {},
   "outputs": [],
   "source": [
    "# These parameters are for rigid registration\n",
    "max_shifts = (7, 7)\n",
    "frames_per_split = 500\n",
    "num_splits_to_process_rig = 5\n",
    "niter_rig = 4\n",
    "save_movie = False\n",
    "\n",
    "##These parameters are for estimating a piecewise rigid template\n",
    "pw_rigid = False\n",
    "strides = (50, 50)\n",
    "overlaps = (5, 5)\n",
    "max_deviation_rigid = 5\n",
    "corrector = jnc.MotionCorrect(raw_dataloader_crop, max_shifts=max_shifts, frames_per_split=frames_per_split,\n",
    "                                                num_splits_to_process_rig=num_splits_to_process_rig, strides=strides,\n",
    "                                                       overlaps=overlaps, max_deviation_rigid = max_deviation_rigid, niter_rig=niter_rig, pw_rigid = pw_rigid)\n",
    "\n",
    "\n",
    "\n",
    "frame_corrector, output_file = corrector.motion_correct(\n",
    "    template=None, save_movie=save_movie\n",
    ")\n",
    "\n",
    "motion_correction_dataloader = jnc.RegistrationArray(frame_corrector, raw_dataloader_crop, pw_rigid=False)"
   ]
  },
  {
   "cell_type": "markdown",
   "id": "d5196c52-d6bd-42af-a659-0a822f71114b",
   "metadata": {},
   "source": [
    "# Given the template, run fused motion correction + PMD compression & denoising"
   ]
  },
  {
   "cell_type": "code",
   "execution_count": 4,
   "id": "004d7036-8e16-4dc1-a9d8-9ef747251511",
   "metadata": {},
   "outputs": [],
   "source": [
    "block_sizes = [32, 32]\n",
    "frame_range = 5000\n",
    "max_components = 20\n",
    "background_rank = 3\n",
    "\n",
    "full_pmd_movie = localmd.localmd_decomposition(motion_correction_dataloader, block_sizes, frame_range, max_components=max_components, \n",
    "                          background_rank=background_rank, sim_conf=5, frame_batch_size = 1000,\n",
    "                          dtype='float32', pixel_batch_size=5000, max_consecutive_failures = 1, rank_prune=True, temporal_avg_factor=10)"
   ]
  },
  {
   "cell_type": "markdown",
   "id": "43964c97-3c4f-450b-91a8-35418656f560",
   "metadata": {},
   "source": [
    "# Visualize the results using fastplotlib"
   ]
  },
  {
   "cell_type": "code",
   "execution_count": 5,
   "id": "74e6c741-5816-4b9a-a697-34edcc017270",
   "metadata": {},
   "outputs": [],
   "source": [
    "'''\n",
    "Modify the below timeslice value; this amount of motion corrected, PMD, and High-Passed PMD data is loaded into RAM for the visualization\n",
    "If you want to load the full dataset, set timeslice = slice(0, raw_data_loader_crop.shape[0])\n",
    "'''\n",
    "timeslice = slice(0, 1000, 1) #Specifies which frames we want to view\n",
    "\n",
    "mean_sub = True\n",
    "raw_data_toview = raw_data_loader[timeslice]\n",
    "moco_data_toview = motion_correction_dataloader[timeslice]\n",
    "pmd_data_toview = full_pmd_movie[timeslice]\n",
    "residual_toview = moco_data_toview - pmd_data_toview\n",
    "\n",
    "if mean_sub:\n",
    "    raw_data_toview -= np.mean(raw_data_toview, axis = 0, keepdims=True)\n",
    "    moco_data_toview -= np.mean(moco_data_toview, axis = 0, keepdims=True)\n",
    "    pmd_data_toview -= np.mean(pmd_data_toview, axis = 0, keepdims=True)\n",
    "    residual_toview -= np.mean(residual_toview, axis = 0, keepdims=True)\n",
    "\n",
    "movies = [raw_data_toview,\n",
    "          moco_data_toview,\n",
    "          pmd_data_toview,\n",
    "         residual_toview]\n",
    "\n",
    "iw = ImageWidget(data=movies, \n",
    "                 figure_shape=(1,4),\n",
    "                 names=['Raw', 'Moco', 'PMD', 'Moco - PMD'],\n",
    "                histogram_widget=True)\n",
    "\n",
    "\n",
    "iw.show()\n"
   ]
  },
  {
   "cell_type": "markdown",
   "id": "b8f3d092-56b4-40b0-a82c-400c0aab7ed9",
   "metadata": {},
   "source": [
    "# Save the results to a .npz file. This file will be loaded by the demixing workflow to extract ROI and Signals"
   ]
  },
  {
   "cell_type": "code",
   "execution_count": 7,
   "id": "270bb756-d9d3-4e36-b08e-b94067779a77",
   "metadata": {},
   "outputs": [],
   "source": [
    "filename = f\"Decomposition_File_{dim1_slice[0]}_{dim1_slice[1]}_{dim2_slice[0]}_{dim2_slice[1]}.npz\"\n",
    "np.savez(filename, pmd = full_pmd_movie)"
   ]
  },
  {
   "cell_type": "markdown",
   "id": "d3184ff4-6cb9-4256-b95f-5718442b262d",
   "metadata": {},
   "source": [
    "# Optional: Some workflows might involve running a pixel-wise filter. If this filter is a linear operation, we can operate directly on the temporal basis of the PMD representation."
   ]
  },
  {
   "cell_type": "code",
   "execution_count": 6,
   "id": "169c4b84-9299-4fad-b905-aab7e8887031",
   "metadata": {},
   "outputs": [],
   "source": [
    "#####\n",
    "## Specify the frequency parameters for the high-pass filter. \n",
    "#####\n",
    "cutoff_freq_in_hz = 5 # Everything below this frequency gets truncated \n",
    "sampling_rate_hz = 500 # Frame rate of the data\n",
    "#####\n",
    "\n",
    "\n",
    "### Everything below does not change\n",
    "\n",
    "##Define the filtering operation\n",
    "def high_pass_filter(data: np.ndarray,\n",
    "                     cutoff: float,\n",
    "                     sampling_rate: float, order=5):\n",
    "    \"\"\"\n",
    "    data (np.ndarray): 1D time series\n",
    "    cutoff (float): The frequency cutoff in hertz\n",
    "    sampling_rate (float): The sampling rate of the data\n",
    "    order (int): Order of the butterworth filter for the sampling rate\n",
    "\n",
    "    Returns:\n",
    "        filtered_data (np.ndarray): Shape (T,). 1D high-pass filtered time series\n",
    "    \"\"\"\n",
    "    nyquist = 0.5 * sampling_rate\n",
    "    normal_cutoff = cutoff / nyquist\n",
    "    b, a = butter(order, normal_cutoff, btype='high', analog=False)\n",
    "    filtered_data = filtfilt(b, a, data)\n",
    "    return filtered_data\n",
    "\n",
    "def high_pass_filter_V(V: np.ndarray,\n",
    "                       cutoff: float,\n",
    "                       sampling_rate: float):\n",
    "    \"\"\"\n",
    "    Runs a high pass filter on all temporal basis vectors from the PMD representation\n",
    "\n",
    "    Code is serially run on CPU right now for clarity, super easy to run on GPU\n",
    "\n",
    "    Args:\n",
    "        V (np.ndarray): Shape (PMD Rank, Number of Frames). PMD temporal basis\n",
    "        cutoff (float): The frequency cutoff in hertz\n",
    "        sampling_rate (float): The sampling rate of the data\n",
    "\n",
    "    Returns:\n",
    "        V_hp (np.ndarray): Shape (PMD Rank, Number of Frames). High-passed PMD temporal basis vectors\n",
    "    \"\"\"\n",
    "    V_hp = np.zeros_like(V)\n",
    "    \n",
    "    for k in range(V.shape[0]):\n",
    "        V_hp[k, :] = high_pass_filter(V[k, :], cutoff, sampling_rate)\n",
    "    return V_hp\n",
    "\n",
    "\n",
    "\n",
    "#Get the existing U_sparse, R, s, V matrices, high-pass filter V\n",
    "U_sparse = full_pmd_movie.u\n",
    "R = full_pmd_movie.r\n",
    "s = full_pmd_movie.s\n",
    "V = full_pmd_movie.v\n",
    "V_filt = high_pass_filter_V(V, cutoff_freq_in_hz, sampling_rate_hz)\n",
    "T, d1, d2 = full_pmd_movie.shape\n",
    "\n",
    "#Get the new factorization (the temporally high-passed movie) and construct a PMD array\n",
    "R_hp, s_hp, V_hp = [np.array(mat) for mat in localmd.projected_svd(R, s[:, None]*V_filt)]\n",
    "zero_filter = s_hp != 0\n",
    "R_hp = R_hp[:, zero_filter]\n",
    "s_hp = s_hp[zero_filter]\n",
    "V_hp = V_hp[zero_filter, :]\n",
    "hp_pmd_movie = localmd.pmdarray.PMDArray(full_pmd_movie.u.tocoo(), R_hp, s_hp, V_hp, full_pmd_movie.shape, \n",
    "                                         full_pmd_movie.order, full_pmd_movie.mean_img, full_pmd_movie.var_img)\n",
    "\n",
    "\n",
    "\n",
    "fig, ax = plt.subplots(1, 3, figsize = (15, 10))\n",
    "fig.suptitle(\"800 Hz Data, 4 x 4 ROI Analysis\")\n",
    "r, c = np.unravel_index(np.argmax(raw_dataloader_crop[0]), raw_dataloader_crop.shape[1:])\n",
    "print(f\"{r} and {c}\")\n",
    "ts = np.mean(raw_dataloader_crop[:, max(0, r-4):r+4, max(0, c-4):c+4], axis = (1,2))\n",
    "ax[0].plot(ts[:])\n",
    "ax[0].set_title(\"Temporal Average of 4 x 4 ROI\")\n",
    "ax[0].set_xlabel(\"Frames\")\n",
    "ax[0].set_yticks([])\n",
    "\n",
    "high_pass_ts = high_pass_filter(ts, cutoff_freq_in_hz, sampling_rate_hz)\n",
    "ax[1].plot(high_pass_ts[:])\n",
    "ax[1].set_title(f\"High Pass Filt: {cutoff_freq_in_hz} Hz Cutoff\")\n",
    "\n",
    "ax[2].plot((ts - high_pass_ts)[:])\n",
    "ax[2].set_title(\"Low Pass Filt\")\n",
    "\n",
    "plt.show()\n"
   ]
  },
  {
   "cell_type": "markdown",
   "id": "623cb0e3-ffa4-4664-85bc-f70c41d7c209",
   "metadata": {},
   "source": [
    "# Optional: Save the high-pass filtered PMD video."
   ]
  },
  {
   "cell_type": "code",
   "execution_count": 13,
   "id": "2f0925a5-a794-400f-a15d-361ba7677bb0",
   "metadata": {},
   "outputs": [],
   "source": [
    "filename = f\"Decomposition_File_High_Pass_{cutoff_freq_in_hz}_{dim1_slice[0]}_{dim1_slice[1]}_{dim2_slice[0]}_{dim2_slice[1]}.npz\"\n",
    "np.savez(filename, pmd = hp_pmd_movie)"
   ]
  },
  {
   "cell_type": "markdown",
   "id": "0b20ca19-bb83-48ed-9d9a-3d912ec4db30",
   "metadata": {},
   "source": [
    "# Optional: Visualize all results: Raw, Motion Corrected, PMD, High-Pass Filtered Data"
   ]
  },
  {
   "cell_type": "code",
   "execution_count": 21,
   "id": "2aef114b-39f7-4b4e-a869-e0e119decc69",
   "metadata": {},
   "outputs": [],
   "source": [
    "'''\n",
    "Modify the below timeslice value; this amount of motion corrected, PMD, and High-Passed PMD data is loaded into RAM for the visualization\n",
    "If you want to load the full dataset, set timeslice = slice(0, raw_data_loader_crop.shape[0])\n",
    "'''\n",
    "\n",
    "movies = [raw_dataloader_crop,\n",
    "          motion_correction_dataloader,\n",
    "          full_pmd_movie,\n",
    "          hp_pmd_movie]\n",
    "\n",
    "iw = ImageWidget(data=movies, \n",
    "                 figure_shape=(1,4),\n",
    "                 names=['Raw', 'Moco', 'PMD', 'HP Filter PMD'],\n",
    "                histogram_widget=False)\n",
    "\n",
    "iw.show()\n"
   ]
  }
 ],
 "metadata": {
  "kernelspec": {
   "display_name": "Python 3 (ipykernel)",
   "language": "python",
   "name": "python3"
  },
  "language_info": {
   "codemirror_mode": {
    "name": "ipython",
    "version": 3
   },
   "file_extension": ".py",
   "mimetype": "text/x-python",
   "name": "python",
   "nbconvert_exporter": "python",
   "pygments_lexer": "ipython3",
   "version": "3.11.9"
  }
 },
 "nbformat": 4,
 "nbformat_minor": 5
}
