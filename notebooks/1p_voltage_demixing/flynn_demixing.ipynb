{
 "cells": [
  {
   "cell_type": "code",
   "execution_count": 17,
   "id": "644ce7aa-e263-438e-ade7-beba77514277",
   "metadata": {
    "execution": {
     "iopub.execute_input": "2025-04-30T16:32:33.959322Z",
     "iopub.status.busy": "2025-04-30T16:32:33.959322Z",
     "iopub.status.idle": "2025-04-30T16:32:33.963321Z",
     "shell.execute_reply": "2025-04-30T16:32:33.963321Z",
     "shell.execute_reply.started": "2025-04-30T16:32:33.959322Z"
    }
   },
   "outputs": [],
   "source": [
    "from pathlib import Path\n",
    "import os\n",
    "import sys\n",
    "import tifffile\n",
    "import fastplotlib as fpl\n",
    "import masknmf\n",
    "import time\n",
    "import numpy as np\n",
    "import torch\n",
    "import matplotlib.pyplot as plt\n",
    "%matplotlib inline"
   ]
  },
  {
   "cell_type": "code",
   "execution_count": 27,
   "id": "aee7d4ac-5858-4513-aa99-0547b878f2b1",
   "metadata": {
    "execution": {
     "iopub.execute_input": "2025-04-30T17:01:17.961650Z",
     "iopub.status.busy": "2025-04-30T17:01:17.961650Z",
     "iopub.status.idle": "2025-04-30T17:01:44.583932Z",
     "shell.execute_reply": "2025-04-30T17:01:44.583932Z",
     "shell.execute_reply.started": "2025-04-30T17:01:17.961650Z"
    }
   },
   "outputs": [
    {
     "name": "stderr",
     "output_type": "stream",
     "text": [
      "100%|██████████████████████████████████████████████████████████| 10/10 [00:09<00:00,  1.10it/s]\n",
      "100%|██████████████████████████████████████████████████████████| 10/10 [00:08<00:00,  1.22it/s]\n",
      "100%|██████████████████████████████████████████████████████████| 10/10 [00:08<00:00,  1.23it/s]\n"
     ]
    }
   ],
   "source": [
    "fpath = Path(r\"D:\\W2_DATA\\kbarber\\2025_03_01\\mk301\\assembled\\plane_07_mk301.tiff\")\n",
    "data = tifffile.memmap(fpath)\n",
    "\n",
    "max_rigid_shifts = [3, 3]\n",
    "template = None\n",
    "rigid_strategy = masknmf.RigidMotionCorrection(max_rigid_shifts, template = template)\n",
    "\n",
    "rigid_strategy = masknmf.compute_template(data,\n",
    "                                          rigid_strategy, \n",
    "                                          device = \"cpu\")"
   ]
  },
  {
   "cell_type": "code",
   "execution_count": 29,
   "id": "9d5f9b82-290d-4aac-856d-190b632cbd60",
   "metadata": {
    "execution": {
     "iopub.execute_input": "2025-04-30T17:02:54.025963Z",
     "iopub.status.busy": "2025-04-30T17:02:54.025963Z",
     "iopub.status.idle": "2025-04-30T17:02:54.030963Z",
     "shell.execute_reply": "2025-04-30T17:02:54.030963Z",
     "shell.execute_reply.started": "2025-04-30T17:02:54.025963Z"
    }
   },
   "outputs": [
    {
     "data": {
      "text/plain": [
       "(64594, 448, 448)"
      ]
     },
     "execution_count": 29,
     "metadata": {},
     "output_type": "execute_result"
    }
   ],
   "source": [
    "# save_path = Path(\"../../data\").resolve()\n",
    "# save_path.mkdir(exist_ok=True)\n",
    "# save_name = save_path.joinpath(\"plane_07_reg2.tiff\")\n",
    "moco_results = masknmf.RegistrationArray(data,\n",
    "                                         rigid_strategy,\n",
    "                                         device = \"cpu\")\n",
    "moco_results.shape"
   ]
  },
  {
   "cell_type": "code",
   "execution_count": 30,
   "id": "1aebac5e-f635-4f1e-af80-c3f01e9d80e0",
   "metadata": {
    "execution": {
     "iopub.execute_input": "2025-04-30T17:03:14.911410Z",
     "iopub.status.busy": "2025-04-30T17:03:14.911410Z",
     "iopub.status.idle": "2025-04-30T22:29:02.831469Z",
     "shell.execute_reply": "2025-04-30T22:29:02.827471Z",
     "shell.execute_reply.started": "2025-04-30T17:03:14.911410Z"
    },
    "scrolled": true
   },
   "outputs": [
    {
     "name": "stdout",
     "output_type": "stream",
     "text": [
      "[25-04-30 13:03:14]: Processing 0:64 to 0:64\n",
      "[25-04-30 13:09:53]: Starting compression\n",
      "[25-04-30 13:09:53]: sampled from the following regions: [0]\n",
      "[25-04-30 13:09:53]: We are initializing on a total of 64594 frames\n",
      "[25-04-30 13:09:54]: Approximating full FOV basis terms\n",
      "[25-04-30 13:09:54]: Loading data to estimate complete spatial basis\n",
      "[25-04-30 13:09:55]: Finding spatiotemporal roughness thresholds\n"
     ]
    },
    {
     "name": "stderr",
     "output_type": "stream",
     "text": [
      "100%|████████████████████████████████████████████████████████| 250/250 [00:04<00:00, 60.98it/s]"
     ]
    },
    {
     "name": "stdout",
     "output_type": "stream",
     "text": [
      "[25-04-30 13:09:59]: Running Blockwise Decompositions\n"
     ]
    },
    {
     "name": "stderr",
     "output_type": "stream",
     "text": [
      "\n"
     ]
    },
    {
     "name": "stdout",
     "output_type": "stream",
     "text": [
      "[25-04-30 13:10:00]: Constructed U matrix. Rank of U is 35\n",
      "[25-04-30 13:10:01]: PMD Objected constructed\n",
      "[25-04-30 13:10:01]: Processing 0:64 to 54:118\n",
      "[25-04-30 13:17:00]: Starting compression\n",
      "[25-04-30 13:17:00]: sampled from the following regions: [0]\n",
      "[25-04-30 13:17:00]: We are initializing on a total of 64594 frames\n",
      "[25-04-30 13:17:01]: Approximating full FOV basis terms\n",
      "[25-04-30 13:17:01]: Loading data to estimate complete spatial basis\n",
      "[25-04-30 13:17:02]: Finding spatiotemporal roughness thresholds\n"
     ]
    },
    {
     "name": "stderr",
     "output_type": "stream",
     "text": [
      "100%|████████████████████████████████████████████████████████| 250/250 [00:03<00:00, 64.52it/s]"
     ]
    },
    {
     "name": "stdout",
     "output_type": "stream",
     "text": [
      "[25-04-30 13:17:06]: Running Blockwise Decompositions\n"
     ]
    },
    {
     "name": "stderr",
     "output_type": "stream",
     "text": [
      "\n"
     ]
    },
    {
     "name": "stdout",
     "output_type": "stream",
     "text": [
      "[25-04-30 13:17:07]: Constructed U matrix. Rank of U is 52\n",
      "[25-04-30 13:17:07]: PMD Objected constructed\n",
      "[25-04-30 13:17:07]: Processing 0:64 to 108:172\n",
      "[25-04-30 13:24:04]: Starting compression\n",
      "[25-04-30 13:24:04]: sampled from the following regions: [0]\n",
      "[25-04-30 13:24:04]: We are initializing on a total of 64594 frames\n",
      "[25-04-30 13:24:05]: Approximating full FOV basis terms\n",
      "[25-04-30 13:24:05]: Loading data to estimate complete spatial basis\n",
      "[25-04-30 13:24:06]: Finding spatiotemporal roughness thresholds\n"
     ]
    },
    {
     "name": "stderr",
     "output_type": "stream",
     "text": [
      "100%|████████████████████████████████████████████████████████| 250/250 [00:03<00:00, 64.83it/s]"
     ]
    },
    {
     "name": "stdout",
     "output_type": "stream",
     "text": [
      "[25-04-30 13:24:10]: Running Blockwise Decompositions\n"
     ]
    },
    {
     "name": "stderr",
     "output_type": "stream",
     "text": [
      "\n"
     ]
    },
    {
     "name": "stdout",
     "output_type": "stream",
     "text": [
      "[25-04-30 13:24:11]: Constructed U matrix. Rank of U is 73\n",
      "[25-04-30 13:24:11]: PMD Objected constructed\n",
      "[25-04-30 13:24:11]: Processing 0:64 to 162:226\n",
      "[25-04-30 13:32:17]: Starting compression\n",
      "[25-04-30 13:32:17]: sampled from the following regions: [0]\n",
      "[25-04-30 13:32:17]: We are initializing on a total of 64594 frames\n",
      "[25-04-30 13:32:18]: Approximating full FOV basis terms\n",
      "[25-04-30 13:32:18]: Loading data to estimate complete spatial basis\n",
      "[25-04-30 13:32:19]: Finding spatiotemporal roughness thresholds\n"
     ]
    },
    {
     "name": "stderr",
     "output_type": "stream",
     "text": [
      "100%|████████████████████████████████████████████████████████| 250/250 [00:03<00:00, 63.88it/s]"
     ]
    },
    {
     "name": "stdout",
     "output_type": "stream",
     "text": [
      "[25-04-30 13:32:23]: Running Blockwise Decompositions\n"
     ]
    },
    {
     "name": "stderr",
     "output_type": "stream",
     "text": [
      "\n"
     ]
    },
    {
     "name": "stdout",
     "output_type": "stream",
     "text": [
      "[25-04-30 13:32:24]: Constructed U matrix. Rank of U is 65\n",
      "[25-04-30 13:32:24]: PMD Objected constructed\n",
      "[25-04-30 13:32:24]: Processing 0:64 to 216:280\n",
      "[25-04-30 13:41:22]: Starting compression\n",
      "[25-04-30 13:41:22]: sampled from the following regions: [0]\n",
      "[25-04-30 13:41:22]: We are initializing on a total of 64594 frames\n",
      "[25-04-30 13:41:22]: Approximating full FOV basis terms\n",
      "[25-04-30 13:41:23]: Loading data to estimate complete spatial basis\n",
      "[25-04-30 13:41:23]: Finding spatiotemporal roughness thresholds\n"
     ]
    },
    {
     "name": "stderr",
     "output_type": "stream",
     "text": [
      "100%|████████████████████████████████████████████████████████| 250/250 [00:03<00:00, 64.85it/s]"
     ]
    },
    {
     "name": "stdout",
     "output_type": "stream",
     "text": [
      "[25-04-30 13:41:27]: Running Blockwise Decompositions\n"
     ]
    },
    {
     "name": "stderr",
     "output_type": "stream",
     "text": [
      "\n"
     ]
    },
    {
     "name": "stdout",
     "output_type": "stream",
     "text": [
      "[25-04-30 13:41:28]: Constructed U matrix. Rank of U is 68\n",
      "[25-04-30 13:41:28]: PMD Objected constructed\n",
      "[25-04-30 13:41:28]: Processing 0:64 to 270:334\n",
      "[25-04-30 13:49:11]: Starting compression\n",
      "[25-04-30 13:49:11]: sampled from the following regions: [0]\n",
      "[25-04-30 13:49:11]: We are initializing on a total of 64594 frames\n",
      "[25-04-30 13:49:12]: Approximating full FOV basis terms\n",
      "[25-04-30 13:49:12]: Loading data to estimate complete spatial basis\n",
      "[25-04-30 13:49:12]: Finding spatiotemporal roughness thresholds\n"
     ]
    },
    {
     "name": "stderr",
     "output_type": "stream",
     "text": [
      "100%|████████████████████████████████████████████████████████| 250/250 [00:03<00:00, 65.39it/s]"
     ]
    },
    {
     "name": "stdout",
     "output_type": "stream",
     "text": [
      "[25-04-30 13:49:16]: Running Blockwise Decompositions\n"
     ]
    },
    {
     "name": "stderr",
     "output_type": "stream",
     "text": [
      "\n"
     ]
    },
    {
     "name": "stdout",
     "output_type": "stream",
     "text": [
      "[25-04-30 13:49:17]: Constructed U matrix. Rank of U is 63\n",
      "[25-04-30 13:49:17]: PMD Objected constructed\n",
      "[25-04-30 13:49:17]: Processing 0:64 to 324:388\n",
      "[25-04-30 13:56:52]: Starting compression\n",
      "[25-04-30 13:56:52]: sampled from the following regions: [0]\n",
      "[25-04-30 13:56:52]: We are initializing on a total of 64594 frames\n",
      "[25-04-30 13:56:52]: Approximating full FOV basis terms\n",
      "[25-04-30 13:56:52]: Loading data to estimate complete spatial basis\n",
      "[25-04-30 13:56:53]: Finding spatiotemporal roughness thresholds\n"
     ]
    },
    {
     "name": "stderr",
     "output_type": "stream",
     "text": [
      "100%|████████████████████████████████████████████████████████| 250/250 [00:03<00:00, 63.46it/s]\n"
     ]
    },
    {
     "name": "stdout",
     "output_type": "stream",
     "text": [
      "[25-04-30 13:56:57]: Running Blockwise Decompositions\n",
      "[25-04-30 13:56:58]: Constructed U matrix. Rank of U is 70\n",
      "[25-04-30 13:56:58]: PMD Objected constructed\n",
      "[25-04-30 13:56:58]: Processing 0:64 to 378:442\n",
      "[25-04-30 14:04:15]: Starting compression\n",
      "[25-04-30 14:04:15]: sampled from the following regions: [0]\n",
      "[25-04-30 14:04:15]: We are initializing on a total of 64594 frames\n",
      "[25-04-30 14:04:16]: Approximating full FOV basis terms\n",
      "[25-04-30 14:04:16]: Loading data to estimate complete spatial basis\n",
      "[25-04-30 14:04:17]: Finding spatiotemporal roughness thresholds\n"
     ]
    },
    {
     "name": "stderr",
     "output_type": "stream",
     "text": [
      "100%|████████████████████████████████████████████████████████| 250/250 [00:03<00:00, 65.45it/s]\n"
     ]
    },
    {
     "name": "stdout",
     "output_type": "stream",
     "text": [
      "[25-04-30 14:04:21]: Running Blockwise Decompositions\n",
      "[25-04-30 14:04:22]: Constructed U matrix. Rank of U is 80\n",
      "[25-04-30 14:04:22]: PMD Objected constructed\n",
      "[25-04-30 14:04:22]: Processing 0:64 to 410:448\n",
      "[25-04-30 14:11:15]: Starting compression\n",
      "[25-04-30 14:11:15]: sampled from the following regions: [0]\n",
      "[25-04-30 14:11:15]: We are initializing on a total of 64594 frames\n",
      "[25-04-30 14:11:16]: Approximating full FOV basis terms\n",
      "[25-04-30 14:11:16]: Loading data to estimate complete spatial basis\n",
      "[25-04-30 14:11:16]: Finding spatiotemporal roughness thresholds\n"
     ]
    },
    {
     "name": "stderr",
     "output_type": "stream",
     "text": [
      "100%|████████████████████████████████████████████████████████| 250/250 [00:03<00:00, 65.25it/s]"
     ]
    },
    {
     "name": "stdout",
     "output_type": "stream",
     "text": [
      "[25-04-30 14:11:20]: Running Blockwise Decompositions\n"
     ]
    },
    {
     "name": "stderr",
     "output_type": "stream",
     "text": [
      "\n"
     ]
    },
    {
     "name": "stdout",
     "output_type": "stream",
     "text": [
      "[25-04-30 14:11:21]: Constructed U matrix. Rank of U is 55\n",
      "[25-04-30 14:11:21]: PMD Objected constructed\n",
      "[25-04-30 14:11:21]: Processing 54:118 to 0:64\n",
      "[25-04-30 14:20:01]: Starting compression\n",
      "[25-04-30 14:20:01]: sampled from the following regions: [0]\n",
      "[25-04-30 14:20:01]: We are initializing on a total of 64594 frames\n",
      "[25-04-30 14:20:02]: Approximating full FOV basis terms\n",
      "[25-04-30 14:20:02]: Loading data to estimate complete spatial basis\n",
      "[25-04-30 14:20:03]: Finding spatiotemporal roughness thresholds\n"
     ]
    },
    {
     "name": "stderr",
     "output_type": "stream",
     "text": [
      "100%|████████████████████████████████████████████████████████| 250/250 [00:03<00:00, 65.09it/s]"
     ]
    },
    {
     "name": "stdout",
     "output_type": "stream",
     "text": [
      "[25-04-30 14:20:07]: Running Blockwise Decompositions\n"
     ]
    },
    {
     "name": "stderr",
     "output_type": "stream",
     "text": [
      "\n"
     ]
    },
    {
     "name": "stdout",
     "output_type": "stream",
     "text": [
      "[25-04-30 14:20:08]: Constructed U matrix. Rank of U is 45\n",
      "[25-04-30 14:20:08]: PMD Objected constructed\n",
      "[25-04-30 14:20:08]: Processing 54:118 to 54:118\n",
      "[25-04-30 14:28:22]: Starting compression\n",
      "[25-04-30 14:28:22]: sampled from the following regions: [0]\n",
      "[25-04-30 14:28:22]: We are initializing on a total of 64594 frames\n",
      "[25-04-30 14:28:23]: Approximating full FOV basis terms\n",
      "[25-04-30 14:28:23]: Loading data to estimate complete spatial basis\n",
      "[25-04-30 14:28:24]: Finding spatiotemporal roughness thresholds\n"
     ]
    },
    {
     "name": "stderr",
     "output_type": "stream",
     "text": [
      "100%|████████████████████████████████████████████████████████| 250/250 [00:03<00:00, 66.20it/s]"
     ]
    },
    {
     "name": "stdout",
     "output_type": "stream",
     "text": [
      "[25-04-30 14:28:28]: Running Blockwise Decompositions\n"
     ]
    },
    {
     "name": "stderr",
     "output_type": "stream",
     "text": [
      "\n"
     ]
    },
    {
     "name": "stdout",
     "output_type": "stream",
     "text": [
      "[25-04-30 14:28:29]: Constructed U matrix. Rank of U is 56\n",
      "[25-04-30 14:28:29]: PMD Objected constructed\n",
      "[25-04-30 14:28:29]: Processing 54:118 to 108:172\n",
      "[25-04-30 14:36:02]: Starting compression\n",
      "[25-04-30 14:36:02]: sampled from the following regions: [0]\n",
      "[25-04-30 14:36:02]: We are initializing on a total of 64594 frames\n",
      "[25-04-30 14:36:03]: Approximating full FOV basis terms\n",
      "[25-04-30 14:36:03]: Loading data to estimate complete spatial basis\n",
      "[25-04-30 14:36:04]: Finding spatiotemporal roughness thresholds\n"
     ]
    },
    {
     "name": "stderr",
     "output_type": "stream",
     "text": [
      "100%|████████████████████████████████████████████████████████| 250/250 [00:03<00:00, 66.81it/s]"
     ]
    },
    {
     "name": "stdout",
     "output_type": "stream",
     "text": [
      "[25-04-30 14:36:07]: Running Blockwise Decompositions\n"
     ]
    },
    {
     "name": "stderr",
     "output_type": "stream",
     "text": [
      "\n"
     ]
    },
    {
     "name": "stdout",
     "output_type": "stream",
     "text": [
      "[25-04-30 14:36:08]: Constructed U matrix. Rank of U is 59\n",
      "[25-04-30 14:36:08]: PMD Objected constructed\n",
      "[25-04-30 14:36:08]: Processing 54:118 to 162:226\n",
      "[25-04-30 14:43:48]: Starting compression\n",
      "[25-04-30 14:43:48]: sampled from the following regions: [0]\n",
      "[25-04-30 14:43:48]: We are initializing on a total of 64594 frames\n",
      "[25-04-30 14:43:49]: Approximating full FOV basis terms\n",
      "[25-04-30 14:43:49]: Loading data to estimate complete spatial basis\n",
      "[25-04-30 14:43:49]: Finding spatiotemporal roughness thresholds\n"
     ]
    },
    {
     "name": "stderr",
     "output_type": "stream",
     "text": [
      "100%|████████████████████████████████████████████████████████| 250/250 [00:03<00:00, 65.72it/s]"
     ]
    },
    {
     "name": "stdout",
     "output_type": "stream",
     "text": [
      "[25-04-30 14:43:53]: Running Blockwise Decompositions\n"
     ]
    },
    {
     "name": "stderr",
     "output_type": "stream",
     "text": [
      "\n"
     ]
    },
    {
     "name": "stdout",
     "output_type": "stream",
     "text": [
      "[25-04-30 14:43:54]: Constructed U matrix. Rank of U is 86\n",
      "[25-04-30 14:43:55]: PMD Objected constructed\n",
      "[25-04-30 14:43:55]: Processing 54:118 to 216:280\n",
      "[25-04-30 14:50:46]: Starting compression\n",
      "[25-04-30 14:50:46]: sampled from the following regions: [0]\n",
      "[25-04-30 14:50:46]: We are initializing on a total of 64594 frames\n",
      "[25-04-30 14:50:47]: Approximating full FOV basis terms\n",
      "[25-04-30 14:50:48]: Loading data to estimate complete spatial basis\n",
      "[25-04-30 14:50:53]: Finding spatiotemporal roughness thresholds\n"
     ]
    },
    {
     "name": "stderr",
     "output_type": "stream",
     "text": [
      "100%|████████████████████████████████████████████████████████| 250/250 [00:03<00:00, 66.63it/s]"
     ]
    },
    {
     "name": "stdout",
     "output_type": "stream",
     "text": [
      "[25-04-30 14:50:57]: Running Blockwise Decompositions\n"
     ]
    },
    {
     "name": "stderr",
     "output_type": "stream",
     "text": [
      "\n"
     ]
    },
    {
     "name": "stdout",
     "output_type": "stream",
     "text": [
      "[25-04-30 14:50:58]: Constructed U matrix. Rank of U is 72\n",
      "[25-04-30 14:50:58]: PMD Objected constructed\n",
      "[25-04-30 14:50:58]: Processing 54:118 to 270:334\n",
      "[25-04-30 14:56:43]: Starting compression\n",
      "[25-04-30 14:56:43]: sampled from the following regions: [0]\n",
      "[25-04-30 14:56:43]: We are initializing on a total of 64594 frames\n",
      "[25-04-30 14:56:43]: Approximating full FOV basis terms\n",
      "[25-04-30 14:56:43]: Loading data to estimate complete spatial basis\n",
      "[25-04-30 14:56:44]: Finding spatiotemporal roughness thresholds\n"
     ]
    },
    {
     "name": "stderr",
     "output_type": "stream",
     "text": [
      "100%|████████████████████████████████████████████████████████| 250/250 [00:03<00:00, 65.38it/s]"
     ]
    },
    {
     "name": "stdout",
     "output_type": "stream",
     "text": [
      "[25-04-30 14:56:48]: Running Blockwise Decompositions\n"
     ]
    },
    {
     "name": "stderr",
     "output_type": "stream",
     "text": [
      "\n"
     ]
    },
    {
     "name": "stdout",
     "output_type": "stream",
     "text": [
      "[25-04-30 14:56:49]: Constructed U matrix. Rank of U is 56\n",
      "[25-04-30 14:56:49]: PMD Objected constructed\n",
      "[25-04-30 14:56:49]: Processing 54:118 to 324:388\n",
      "[25-04-30 15:04:16]: Starting compression\n",
      "[25-04-30 15:04:16]: sampled from the following regions: [0]\n",
      "[25-04-30 15:04:16]: We are initializing on a total of 64594 frames\n",
      "[25-04-30 15:04:16]: Approximating full FOV basis terms\n",
      "[25-04-30 15:04:17]: Loading data to estimate complete spatial basis\n",
      "[25-04-30 15:04:17]: Finding spatiotemporal roughness thresholds\n"
     ]
    },
    {
     "name": "stderr",
     "output_type": "stream",
     "text": [
      "100%|████████████████████████████████████████████████████████| 250/250 [00:03<00:00, 66.62it/s]"
     ]
    },
    {
     "name": "stdout",
     "output_type": "stream",
     "text": [
      "[25-04-30 15:04:21]: Running Blockwise Decompositions\n"
     ]
    },
    {
     "name": "stderr",
     "output_type": "stream",
     "text": [
      "\n"
     ]
    },
    {
     "name": "stdout",
     "output_type": "stream",
     "text": [
      "[25-04-30 15:04:22]: Constructed U matrix. Rank of U is 54\n",
      "[25-04-30 15:04:22]: PMD Objected constructed\n",
      "[25-04-30 15:04:22]: Processing 54:118 to 378:442\n",
      "[25-04-30 15:11:26]: Starting compression\n",
      "[25-04-30 15:11:26]: sampled from the following regions: [0]\n",
      "[25-04-30 15:11:26]: We are initializing on a total of 64594 frames\n",
      "[25-04-30 15:11:27]: Approximating full FOV basis terms\n",
      "[25-04-30 15:11:27]: Loading data to estimate complete spatial basis\n",
      "[25-04-30 15:11:27]: Finding spatiotemporal roughness thresholds\n"
     ]
    },
    {
     "name": "stderr",
     "output_type": "stream",
     "text": [
      "100%|████████████████████████████████████████████████████████| 250/250 [00:03<00:00, 66.60it/s]"
     ]
    },
    {
     "name": "stdout",
     "output_type": "stream",
     "text": [
      "[25-04-30 15:11:31]: Running Blockwise Decompositions\n"
     ]
    },
    {
     "name": "stderr",
     "output_type": "stream",
     "text": [
      "\n"
     ]
    },
    {
     "name": "stdout",
     "output_type": "stream",
     "text": [
      "[25-04-30 15:11:32]: Constructed U matrix. Rank of U is 52\n",
      "[25-04-30 15:11:32]: PMD Objected constructed\n",
      "[25-04-30 15:11:32]: Processing 54:118 to 410:448\n",
      "[25-04-30 15:18:26]: Starting compression\n",
      "[25-04-30 15:18:26]: sampled from the following regions: [0]\n",
      "[25-04-30 15:18:26]: We are initializing on a total of 64594 frames\n",
      "[25-04-30 15:18:27]: Approximating full FOV basis terms\n",
      "[25-04-30 15:18:27]: Loading data to estimate complete spatial basis\n",
      "[25-04-30 15:18:27]: Finding spatiotemporal roughness thresholds\n"
     ]
    },
    {
     "name": "stderr",
     "output_type": "stream",
     "text": [
      "100%|████████████████████████████████████████████████████████| 250/250 [00:03<00:00, 66.66it/s]"
     ]
    },
    {
     "name": "stdout",
     "output_type": "stream",
     "text": [
      "[25-04-30 15:18:31]: Running Blockwise Decompositions\n"
     ]
    },
    {
     "name": "stderr",
     "output_type": "stream",
     "text": [
      "\n"
     ]
    },
    {
     "name": "stdout",
     "output_type": "stream",
     "text": [
      "[25-04-30 15:18:32]: Constructed U matrix. Rank of U is 36\n",
      "[25-04-30 15:18:32]: PMD Objected constructed\n",
      "[25-04-30 15:18:32]: Processing 108:172 to 0:64\n",
      "[25-04-30 15:28:29]: Starting compression\n",
      "[25-04-30 15:28:29]: sampled from the following regions: [0]\n",
      "[25-04-30 15:28:29]: We are initializing on a total of 64594 frames\n",
      "[25-04-30 15:28:30]: Approximating full FOV basis terms\n",
      "[25-04-30 15:28:30]: Loading data to estimate complete spatial basis\n",
      "[25-04-30 15:28:31]: Finding spatiotemporal roughness thresholds\n"
     ]
    },
    {
     "name": "stderr",
     "output_type": "stream",
     "text": [
      "100%|████████████████████████████████████████████████████████| 250/250 [00:03<00:00, 65.15it/s]"
     ]
    },
    {
     "name": "stdout",
     "output_type": "stream",
     "text": [
      "[25-04-30 15:28:35]: Running Blockwise Decompositions\n"
     ]
    },
    {
     "name": "stderr",
     "output_type": "stream",
     "text": [
      "\n"
     ]
    },
    {
     "name": "stdout",
     "output_type": "stream",
     "text": [
      "[25-04-30 15:28:36]: Constructed U matrix. Rank of U is 58\n",
      "[25-04-30 15:28:36]: PMD Objected constructed\n",
      "[25-04-30 15:28:36]: Processing 108:172 to 54:118\n",
      "[25-04-30 15:35:30]: Starting compression\n",
      "[25-04-30 15:35:30]: sampled from the following regions: [0]\n",
      "[25-04-30 15:35:30]: We are initializing on a total of 64594 frames\n",
      "[25-04-30 15:35:31]: Approximating full FOV basis terms\n",
      "[25-04-30 15:35:31]: Loading data to estimate complete spatial basis\n",
      "[25-04-30 15:35:31]: Finding spatiotemporal roughness thresholds\n"
     ]
    },
    {
     "name": "stderr",
     "output_type": "stream",
     "text": [
      "100%|████████████████████████████████████████████████████████| 250/250 [00:03<00:00, 62.91it/s]"
     ]
    },
    {
     "name": "stdout",
     "output_type": "stream",
     "text": [
      "[25-04-30 15:35:36]: Running Blockwise Decompositions\n"
     ]
    },
    {
     "name": "stderr",
     "output_type": "stream",
     "text": [
      "\n"
     ]
    },
    {
     "name": "stdout",
     "output_type": "stream",
     "text": [
      "[25-04-30 15:35:37]: Constructed U matrix. Rank of U is 81\n",
      "[25-04-30 15:35:37]: PMD Objected constructed\n",
      "[25-04-30 15:35:37]: Processing 108:172 to 108:172\n",
      "[25-04-30 15:41:53]: Starting compression\n",
      "[25-04-30 15:41:54]: sampled from the following regions: [0]\n",
      "[25-04-30 15:41:54]: We are initializing on a total of 64594 frames\n",
      "[25-04-30 15:41:54]: Approximating full FOV basis terms\n",
      "[25-04-30 15:41:55]: Loading data to estimate complete spatial basis\n",
      "[25-04-30 15:41:55]: Finding spatiotemporal roughness thresholds\n"
     ]
    },
    {
     "name": "stderr",
     "output_type": "stream",
     "text": [
      "100%|████████████████████████████████████████████████████████| 250/250 [00:03<00:00, 64.22it/s]"
     ]
    },
    {
     "name": "stdout",
     "output_type": "stream",
     "text": [
      "[25-04-30 15:41:59]: Running Blockwise Decompositions\n"
     ]
    },
    {
     "name": "stderr",
     "output_type": "stream",
     "text": [
      "\n"
     ]
    },
    {
     "name": "stdout",
     "output_type": "stream",
     "text": [
      "[25-04-30 15:42:00]: Constructed U matrix. Rank of U is 68\n",
      "[25-04-30 15:42:00]: PMD Objected constructed\n",
      "[25-04-30 15:42:00]: Processing 108:172 to 162:226\n",
      "[25-04-30 15:48:16]: Starting compression\n",
      "[25-04-30 15:48:16]: sampled from the following regions: [0]\n",
      "[25-04-30 15:48:16]: We are initializing on a total of 64594 frames\n",
      "[25-04-30 15:48:17]: Approximating full FOV basis terms\n",
      "[25-04-30 15:48:17]: Loading data to estimate complete spatial basis\n",
      "[25-04-30 15:48:17]: Finding spatiotemporal roughness thresholds\n"
     ]
    },
    {
     "name": "stderr",
     "output_type": "stream",
     "text": [
      "100%|████████████████████████████████████████████████████████| 250/250 [00:03<00:00, 66.59it/s]"
     ]
    },
    {
     "name": "stdout",
     "output_type": "stream",
     "text": [
      "[25-04-30 15:48:21]: Running Blockwise Decompositions\n"
     ]
    },
    {
     "name": "stderr",
     "output_type": "stream",
     "text": [
      "\n"
     ]
    },
    {
     "name": "stdout",
     "output_type": "stream",
     "text": [
      "[25-04-30 15:48:22]: Constructed U matrix. Rank of U is 55\n",
      "[25-04-30 15:48:22]: PMD Objected constructed\n",
      "[25-04-30 15:48:22]: Processing 108:172 to 216:280\n",
      "[25-04-30 15:54:59]: Starting compression\n",
      "[25-04-30 15:55:00]: sampled from the following regions: [0]\n",
      "[25-04-30 15:55:00]: We are initializing on a total of 64594 frames\n",
      "[25-04-30 15:55:00]: Approximating full FOV basis terms\n",
      "[25-04-30 15:55:00]: Loading data to estimate complete spatial basis\n",
      "[25-04-30 15:55:01]: Finding spatiotemporal roughness thresholds\n"
     ]
    },
    {
     "name": "stderr",
     "output_type": "stream",
     "text": [
      "100%|████████████████████████████████████████████████████████| 250/250 [00:03<00:00, 65.74it/s]"
     ]
    },
    {
     "name": "stdout",
     "output_type": "stream",
     "text": [
      "[25-04-30 15:55:05]: Running Blockwise Decompositions\n"
     ]
    },
    {
     "name": "stderr",
     "output_type": "stream",
     "text": [
      "\n"
     ]
    },
    {
     "name": "stdout",
     "output_type": "stream",
     "text": [
      "[25-04-30 15:55:06]: Constructed U matrix. Rank of U is 66\n",
      "[25-04-30 15:55:06]: PMD Objected constructed\n",
      "[25-04-30 15:55:06]: Processing 108:172 to 270:334\n",
      "[25-04-30 16:01:43]: Starting compression\n",
      "[25-04-30 16:01:43]: sampled from the following regions: [0]\n",
      "[25-04-30 16:01:43]: We are initializing on a total of 64594 frames\n",
      "[25-04-30 16:01:44]: Approximating full FOV basis terms\n",
      "[25-04-30 16:01:44]: Loading data to estimate complete spatial basis\n",
      "[25-04-30 16:01:44]: Finding spatiotemporal roughness thresholds\n"
     ]
    },
    {
     "name": "stderr",
     "output_type": "stream",
     "text": [
      "100%|████████████████████████████████████████████████████████| 250/250 [00:03<00:00, 66.03it/s]"
     ]
    },
    {
     "name": "stdout",
     "output_type": "stream",
     "text": [
      "[25-04-30 16:01:48]: Running Blockwise Decompositions\n"
     ]
    },
    {
     "name": "stderr",
     "output_type": "stream",
     "text": [
      "\n"
     ]
    },
    {
     "name": "stdout",
     "output_type": "stream",
     "text": [
      "[25-04-30 16:01:49]: Constructed U matrix. Rank of U is 49\n",
      "[25-04-30 16:01:49]: PMD Objected constructed\n",
      "[25-04-30 16:01:49]: Processing 108:172 to 324:388\n",
      "[25-04-30 16:09:19]: Starting compression\n",
      "[25-04-30 16:09:19]: sampled from the following regions: [0]\n",
      "[25-04-30 16:09:19]: We are initializing on a total of 64594 frames\n",
      "[25-04-30 16:09:20]: Approximating full FOV basis terms\n",
      "[25-04-30 16:09:20]: Loading data to estimate complete spatial basis\n",
      "[25-04-30 16:09:21]: Finding spatiotemporal roughness thresholds\n"
     ]
    },
    {
     "name": "stderr",
     "output_type": "stream",
     "text": [
      "100%|████████████████████████████████████████████████████████| 250/250 [00:03<00:00, 65.74it/s]"
     ]
    },
    {
     "name": "stdout",
     "output_type": "stream",
     "text": [
      "[25-04-30 16:09:24]: Running Blockwise Decompositions\n"
     ]
    },
    {
     "name": "stderr",
     "output_type": "stream",
     "text": [
      "\n"
     ]
    },
    {
     "name": "stdout",
     "output_type": "stream",
     "text": [
      "[25-04-30 16:09:25]: Constructed U matrix. Rank of U is 63\n",
      "[25-04-30 16:09:25]: PMD Objected constructed\n",
      "[25-04-30 16:09:26]: Processing 108:172 to 378:442\n",
      "[25-04-30 16:16:39]: Starting compression\n",
      "[25-04-30 16:16:39]: sampled from the following regions: [0]\n",
      "[25-04-30 16:16:40]: We are initializing on a total of 64594 frames\n",
      "[25-04-30 16:16:40]: Approximating full FOV basis terms\n",
      "[25-04-30 16:16:40]: Loading data to estimate complete spatial basis\n",
      "[25-04-30 16:16:41]: Finding spatiotemporal roughness thresholds\n"
     ]
    },
    {
     "name": "stderr",
     "output_type": "stream",
     "text": [
      "100%|████████████████████████████████████████████████████████| 250/250 [00:03<00:00, 66.14it/s]"
     ]
    },
    {
     "name": "stdout",
     "output_type": "stream",
     "text": [
      "[25-04-30 16:16:45]: Running Blockwise Decompositions\n"
     ]
    },
    {
     "name": "stderr",
     "output_type": "stream",
     "text": [
      "\n"
     ]
    },
    {
     "name": "stdout",
     "output_type": "stream",
     "text": [
      "[25-04-30 16:16:46]: Constructed U matrix. Rank of U is 51\n",
      "[25-04-30 16:16:46]: PMD Objected constructed\n",
      "[25-04-30 16:16:46]: Processing 108:172 to 410:448\n",
      "[25-04-30 16:24:47]: Starting compression\n",
      "[25-04-30 16:24:47]: sampled from the following regions: [0]\n",
      "[25-04-30 16:24:47]: We are initializing on a total of 64594 frames\n",
      "[25-04-30 16:24:48]: Approximating full FOV basis terms\n",
      "[25-04-30 16:24:48]: Loading data to estimate complete spatial basis\n",
      "[25-04-30 16:24:49]: Finding spatiotemporal roughness thresholds\n"
     ]
    },
    {
     "name": "stderr",
     "output_type": "stream",
     "text": [
      "100%|████████████████████████████████████████████████████████| 250/250 [00:04<00:00, 62.42it/s]"
     ]
    },
    {
     "name": "stdout",
     "output_type": "stream",
     "text": [
      "[25-04-30 16:24:53]: Running Blockwise Decompositions\n"
     ]
    },
    {
     "name": "stderr",
     "output_type": "stream",
     "text": [
      "\n"
     ]
    },
    {
     "name": "stdout",
     "output_type": "stream",
     "text": [
      "[25-04-30 16:24:53]: Constructed U matrix. Rank of U is 32\n",
      "[25-04-30 16:24:54]: PMD Objected constructed\n",
      "[25-04-30 16:24:54]: Processing 162:226 to 0:64\n",
      "[25-04-30 16:33:16]: Starting compression\n",
      "[25-04-30 16:33:16]: sampled from the following regions: [0]\n",
      "[25-04-30 16:33:16]: We are initializing on a total of 64594 frames\n",
      "[25-04-30 16:33:17]: Approximating full FOV basis terms\n",
      "[25-04-30 16:33:17]: Loading data to estimate complete spatial basis\n",
      "[25-04-30 16:33:18]: Finding spatiotemporal roughness thresholds\n"
     ]
    },
    {
     "name": "stderr",
     "output_type": "stream",
     "text": [
      "100%|████████████████████████████████████████████████████████| 250/250 [00:03<00:00, 66.02it/s]"
     ]
    },
    {
     "name": "stdout",
     "output_type": "stream",
     "text": [
      "[25-04-30 16:33:21]: Running Blockwise Decompositions\n"
     ]
    },
    {
     "name": "stderr",
     "output_type": "stream",
     "text": [
      "\n"
     ]
    },
    {
     "name": "stdout",
     "output_type": "stream",
     "text": [
      "[25-04-30 16:33:23]: Constructed U matrix. Rank of U is 57\n",
      "[25-04-30 16:33:23]: PMD Objected constructed\n",
      "[25-04-30 16:33:23]: Processing 162:226 to 54:118\n",
      "[25-04-30 16:42:31]: Starting compression\n",
      "[25-04-30 16:42:31]: sampled from the following regions: [0]\n",
      "[25-04-30 16:42:32]: We are initializing on a total of 64594 frames\n",
      "[25-04-30 16:42:32]: Approximating full FOV basis terms\n",
      "[25-04-30 16:42:33]: Loading data to estimate complete spatial basis\n",
      "[25-04-30 16:42:33]: Finding spatiotemporal roughness thresholds\n"
     ]
    },
    {
     "name": "stderr",
     "output_type": "stream",
     "text": [
      "100%|████████████████████████████████████████████████████████| 250/250 [00:03<00:00, 65.87it/s]"
     ]
    },
    {
     "name": "stdout",
     "output_type": "stream",
     "text": [
      "[25-04-30 16:42:37]: Running Blockwise Decompositions\n"
     ]
    },
    {
     "name": "stderr",
     "output_type": "stream",
     "text": [
      "\n"
     ]
    },
    {
     "name": "stdout",
     "output_type": "stream",
     "text": [
      "[25-04-30 16:42:38]: Constructed U matrix. Rank of U is 63\n",
      "[25-04-30 16:42:38]: PMD Objected constructed\n",
      "[25-04-30 16:42:38]: Processing 162:226 to 108:172\n",
      "[25-04-30 16:52:07]: Starting compression\n",
      "[25-04-30 16:52:07]: sampled from the following regions: [0]\n",
      "[25-04-30 16:52:07]: We are initializing on a total of 64594 frames\n",
      "[25-04-30 16:52:08]: Approximating full FOV basis terms\n",
      "[25-04-30 16:52:08]: Loading data to estimate complete spatial basis\n",
      "[25-04-30 16:52:09]: Finding spatiotemporal roughness thresholds\n"
     ]
    },
    {
     "name": "stderr",
     "output_type": "stream",
     "text": [
      "100%|████████████████████████████████████████████████████████| 250/250 [00:03<00:00, 63.32it/s]"
     ]
    },
    {
     "name": "stdout",
     "output_type": "stream",
     "text": [
      "[25-04-30 16:52:13]: Running Blockwise Decompositions\n"
     ]
    },
    {
     "name": "stderr",
     "output_type": "stream",
     "text": [
      "\n"
     ]
    },
    {
     "name": "stdout",
     "output_type": "stream",
     "text": [
      "[25-04-30 16:52:14]: Constructed U matrix. Rank of U is 63\n",
      "[25-04-30 16:52:14]: PMD Objected constructed\n",
      "[25-04-30 16:52:14]: Processing 162:226 to 162:226\n",
      "[25-04-30 17:00:25]: Starting compression\n",
      "[25-04-30 17:00:25]: sampled from the following regions: [0]\n",
      "[25-04-30 17:00:25]: We are initializing on a total of 64594 frames\n",
      "[25-04-30 17:00:26]: Approximating full FOV basis terms\n",
      "[25-04-30 17:00:26]: Loading data to estimate complete spatial basis\n",
      "[25-04-30 17:00:26]: Finding spatiotemporal roughness thresholds\n"
     ]
    },
    {
     "name": "stderr",
     "output_type": "stream",
     "text": [
      "100%|████████████████████████████████████████████████████████| 250/250 [00:03<00:00, 64.59it/s]\n"
     ]
    },
    {
     "name": "stdout",
     "output_type": "stream",
     "text": [
      "[25-04-30 17:00:30]: Running Blockwise Decompositions\n",
      "[25-04-30 17:00:31]: Constructed U matrix. Rank of U is 70\n",
      "[25-04-30 17:00:31]: PMD Objected constructed\n",
      "[25-04-30 17:00:31]: Processing 162:226 to 216:280\n",
      "[25-04-30 17:08:59]: Starting compression\n",
      "[25-04-30 17:08:59]: sampled from the following regions: [0]\n",
      "[25-04-30 17:08:59]: We are initializing on a total of 64594 frames\n",
      "[25-04-30 17:09:00]: Approximating full FOV basis terms\n",
      "[25-04-30 17:09:00]: Loading data to estimate complete spatial basis\n",
      "[25-04-30 17:09:00]: Finding spatiotemporal roughness thresholds\n"
     ]
    },
    {
     "name": "stderr",
     "output_type": "stream",
     "text": [
      "100%|████████████████████████████████████████████████████████| 250/250 [00:03<00:00, 66.18it/s]"
     ]
    },
    {
     "name": "stdout",
     "output_type": "stream",
     "text": [
      "[25-04-30 17:09:04]: Running Blockwise Decompositions\n"
     ]
    },
    {
     "name": "stderr",
     "output_type": "stream",
     "text": [
      "\n"
     ]
    },
    {
     "name": "stdout",
     "output_type": "stream",
     "text": [
      "[25-04-30 17:09:05]: Constructed U matrix. Rank of U is 49\n",
      "[25-04-30 17:09:05]: PMD Objected constructed\n",
      "[25-04-30 17:09:05]: Processing 162:226 to 270:334\n",
      "[25-04-30 17:17:34]: Starting compression\n",
      "[25-04-30 17:17:35]: sampled from the following regions: [0]\n",
      "[25-04-30 17:17:35]: We are initializing on a total of 64594 frames\n",
      "[25-04-30 17:17:35]: Approximating full FOV basis terms\n",
      "[25-04-30 17:17:36]: Loading data to estimate complete spatial basis\n",
      "[25-04-30 17:17:36]: Finding spatiotemporal roughness thresholds\n"
     ]
    },
    {
     "name": "stderr",
     "output_type": "stream",
     "text": [
      "100%|████████████████████████████████████████████████████████| 250/250 [00:03<00:00, 65.22it/s]\n"
     ]
    },
    {
     "name": "stdout",
     "output_type": "stream",
     "text": [
      "[25-04-30 17:17:40]: Running Blockwise Decompositions\n",
      "[25-04-30 17:17:41]: Constructed U matrix. Rank of U is 44\n",
      "[25-04-30 17:17:41]: PMD Objected constructed\n",
      "[25-04-30 17:17:41]: Processing 162:226 to 324:388\n",
      "[25-04-30 17:23:50]: Starting compression\n",
      "[25-04-30 17:23:50]: sampled from the following regions: [0]\n",
      "[25-04-30 17:23:50]: We are initializing on a total of 64594 frames\n",
      "[25-04-30 17:23:51]: Approximating full FOV basis terms\n",
      "[25-04-30 17:23:51]: Loading data to estimate complete spatial basis\n",
      "[25-04-30 17:23:51]: Finding spatiotemporal roughness thresholds\n"
     ]
    },
    {
     "name": "stderr",
     "output_type": "stream",
     "text": [
      "100%|████████████████████████████████████████████████████████| 250/250 [00:03<00:00, 65.87it/s]"
     ]
    },
    {
     "name": "stdout",
     "output_type": "stream",
     "text": [
      "[25-04-30 17:23:55]: Running Blockwise Decompositions\n"
     ]
    },
    {
     "name": "stderr",
     "output_type": "stream",
     "text": [
      "\n"
     ]
    },
    {
     "name": "stdout",
     "output_type": "stream",
     "text": [
      "[25-04-30 17:23:56]: Constructed U matrix. Rank of U is 44\n",
      "[25-04-30 17:23:56]: PMD Objected constructed\n",
      "[25-04-30 17:23:56]: Processing 162:226 to 378:442\n",
      "[25-04-30 17:31:01]: Starting compression\n",
      "[25-04-30 17:31:01]: sampled from the following regions: [0]\n",
      "[25-04-30 17:31:01]: We are initializing on a total of 64594 frames\n",
      "[25-04-30 17:31:02]: Approximating full FOV basis terms\n",
      "[25-04-30 17:31:02]: Loading data to estimate complete spatial basis\n",
      "[25-04-30 17:31:02]: Finding spatiotemporal roughness thresholds\n"
     ]
    },
    {
     "name": "stderr",
     "output_type": "stream",
     "text": [
      "100%|████████████████████████████████████████████████████████| 250/250 [00:03<00:00, 64.83it/s]\n"
     ]
    },
    {
     "name": "stdout",
     "output_type": "stream",
     "text": [
      "[25-04-30 17:31:06]: Running Blockwise Decompositions\n",
      "[25-04-30 17:31:07]: Constructed U matrix. Rank of U is 50\n",
      "[25-04-30 17:31:07]: PMD Objected constructed\n",
      "[25-04-30 17:31:07]: Processing 162:226 to 410:448\n",
      "[25-04-30 17:40:39]: Starting compression\n",
      "[25-04-30 17:40:39]: sampled from the following regions: [0]\n",
      "[25-04-30 17:40:39]: We are initializing on a total of 64594 frames\n",
      "[25-04-30 17:40:40]: Approximating full FOV basis terms\n",
      "[25-04-30 17:40:40]: Loading data to estimate complete spatial basis\n",
      "[25-04-30 17:40:41]: Finding spatiotemporal roughness thresholds\n"
     ]
    },
    {
     "name": "stderr",
     "output_type": "stream",
     "text": [
      "100%|████████████████████████████████████████████████████████| 250/250 [00:03<00:00, 66.83it/s]"
     ]
    },
    {
     "name": "stdout",
     "output_type": "stream",
     "text": [
      "[25-04-30 17:40:44]: Running Blockwise Decompositions\n"
     ]
    },
    {
     "name": "stderr",
     "output_type": "stream",
     "text": [
      "\n"
     ]
    },
    {
     "name": "stdout",
     "output_type": "stream",
     "text": [
      "[25-04-30 17:40:45]: Constructed U matrix. Rank of U is 35\n",
      "[25-04-30 17:40:45]: PMD Objected constructed\n",
      "[25-04-30 17:40:45]: Processing 216:280 to 0:64\n",
      "[25-04-30 17:48:31]: Starting compression\n",
      "[25-04-30 17:48:31]: sampled from the following regions: [0]\n",
      "[25-04-30 17:48:31]: We are initializing on a total of 64594 frames\n",
      "[25-04-30 17:48:32]: Approximating full FOV basis terms\n",
      "[25-04-30 17:48:32]: Loading data to estimate complete spatial basis\n",
      "[25-04-30 17:48:32]: Finding spatiotemporal roughness thresholds\n"
     ]
    },
    {
     "name": "stderr",
     "output_type": "stream",
     "text": [
      "100%|████████████████████████████████████████████████████████| 250/250 [00:03<00:00, 65.23it/s]"
     ]
    },
    {
     "name": "stdout",
     "output_type": "stream",
     "text": [
      "[25-04-30 17:48:36]: Running Blockwise Decompositions\n"
     ]
    },
    {
     "name": "stderr",
     "output_type": "stream",
     "text": [
      "\n"
     ]
    },
    {
     "name": "stdout",
     "output_type": "stream",
     "text": [
      "[25-04-30 17:48:37]: Constructed U matrix. Rank of U is 50\n",
      "[25-04-30 17:48:37]: PMD Objected constructed\n",
      "[25-04-30 17:48:37]: Processing 216:280 to 54:118\n",
      "[25-04-30 17:57:52]: Starting compression\n",
      "[25-04-30 17:57:52]: sampled from the following regions: [0]\n",
      "[25-04-30 17:57:52]: We are initializing on a total of 64594 frames\n",
      "[25-04-30 17:57:53]: Approximating full FOV basis terms\n",
      "[25-04-30 17:57:53]: Loading data to estimate complete spatial basis\n",
      "[25-04-30 17:57:53]: Finding spatiotemporal roughness thresholds\n"
     ]
    },
    {
     "name": "stderr",
     "output_type": "stream",
     "text": [
      "100%|████████████████████████████████████████████████████████| 250/250 [00:03<00:00, 66.34it/s]"
     ]
    },
    {
     "name": "stdout",
     "output_type": "stream",
     "text": [
      "[25-04-30 17:57:57]: Running Blockwise Decompositions\n"
     ]
    },
    {
     "name": "stderr",
     "output_type": "stream",
     "text": [
      "\n"
     ]
    },
    {
     "name": "stdout",
     "output_type": "stream",
     "text": [
      "[25-04-30 17:57:58]: Constructed U matrix. Rank of U is 65\n",
      "[25-04-30 17:57:58]: PMD Objected constructed\n",
      "[25-04-30 17:57:58]: Processing 216:280 to 108:172\n",
      "[25-04-30 18:06:48]: Starting compression\n",
      "[25-04-30 18:06:49]: sampled from the following regions: [0]\n",
      "[25-04-30 18:06:49]: We are initializing on a total of 64594 frames\n",
      "[25-04-30 18:06:49]: Approximating full FOV basis terms\n",
      "[25-04-30 18:06:49]: Loading data to estimate complete spatial basis\n",
      "[25-04-30 18:06:50]: Finding spatiotemporal roughness thresholds\n"
     ]
    },
    {
     "name": "stderr",
     "output_type": "stream",
     "text": [
      "100%|████████████████████████████████████████████████████████| 250/250 [00:03<00:00, 66.64it/s]"
     ]
    },
    {
     "name": "stdout",
     "output_type": "stream",
     "text": [
      "[25-04-30 18:06:54]: Running Blockwise Decompositions\n"
     ]
    },
    {
     "name": "stderr",
     "output_type": "stream",
     "text": [
      "\n"
     ]
    },
    {
     "name": "stdout",
     "output_type": "stream",
     "text": [
      "[25-04-30 18:06:55]: Constructed U matrix. Rank of U is 54\n",
      "[25-04-30 18:06:55]: PMD Objected constructed\n",
      "[25-04-30 18:06:55]: Processing 216:280 to 162:226\n",
      "[25-04-30 18:16:02]: Starting compression\n",
      "[25-04-30 18:16:02]: sampled from the following regions: [0]\n",
      "[25-04-30 18:16:02]: We are initializing on a total of 64594 frames\n",
      "[25-04-30 18:16:03]: Approximating full FOV basis terms\n",
      "[25-04-30 18:16:03]: Loading data to estimate complete spatial basis\n",
      "[25-04-30 18:16:03]: Finding spatiotemporal roughness thresholds\n"
     ]
    },
    {
     "name": "stderr",
     "output_type": "stream",
     "text": [
      "100%|████████████████████████████████████████████████████████| 250/250 [00:03<00:00, 66.28it/s]"
     ]
    },
    {
     "name": "stdout",
     "output_type": "stream",
     "text": [
      "[25-04-30 18:16:07]: Running Blockwise Decompositions\n"
     ]
    },
    {
     "name": "stderr",
     "output_type": "stream",
     "text": [
      "\n"
     ]
    },
    {
     "name": "stdout",
     "output_type": "stream",
     "text": [
      "[25-04-30 18:16:08]: Constructed U matrix. Rank of U is 68\n",
      "[25-04-30 18:16:08]: PMD Objected constructed\n",
      "[25-04-30 18:16:08]: Processing 216:280 to 216:280\n",
      "[25-04-30 18:22:56]: Starting compression\n",
      "[25-04-30 18:22:56]: sampled from the following regions: [0]\n",
      "[25-04-30 18:22:56]: We are initializing on a total of 64594 frames\n",
      "[25-04-30 18:22:57]: Approximating full FOV basis terms\n",
      "[25-04-30 18:22:57]: Loading data to estimate complete spatial basis\n",
      "[25-04-30 18:22:57]: Finding spatiotemporal roughness thresholds\n"
     ]
    },
    {
     "name": "stderr",
     "output_type": "stream",
     "text": [
      "100%|████████████████████████████████████████████████████████| 250/250 [00:03<00:00, 66.47it/s]"
     ]
    },
    {
     "name": "stdout",
     "output_type": "stream",
     "text": [
      "[25-04-30 18:23:01]: Running Blockwise Decompositions\n"
     ]
    },
    {
     "name": "stderr",
     "output_type": "stream",
     "text": [
      "\n"
     ]
    },
    {
     "name": "stdout",
     "output_type": "stream",
     "text": [
      "[25-04-30 18:23:02]: Constructed U matrix. Rank of U is 53\n",
      "[25-04-30 18:23:02]: PMD Objected constructed\n",
      "[25-04-30 18:23:02]: Processing 216:280 to 270:334\n"
     ]
    },
    {
     "ename": "RuntimeError",
     "evalue": "[enforce fail at alloc_cpu.cpp:116] data. DefaultCPUAllocator: not enough memory: you tried to allocate 51857096704 bytes.",
     "output_type": "error",
     "traceback": [
      "\u001b[31m---------------------------------------------------------------------------\u001b[39m",
      "\u001b[31mRuntimeError\u001b[39m                              Traceback (most recent call last)",
      "\u001b[36mCell\u001b[39m\u001b[36m \u001b[39m\u001b[32mIn[30]\u001b[39m\u001b[32m, line 1\u001b[39m\n\u001b[32m----> \u001b[39m\u001b[32m1\u001b[39m pmd_obj = \u001b[43mmasknmf\u001b[49m\u001b[43m.\u001b[49m\u001b[43mcompression\u001b[49m\u001b[43m.\u001b[49m\u001b[43mpmd_batch\u001b[49m\u001b[43m(\u001b[49m\u001b[43mmoco_results\u001b[49m\u001b[43m,\u001b[49m\n\u001b[32m      2\u001b[39m \u001b[43m                                        \u001b[49m\u001b[43m[\u001b[49m\u001b[32;43m64\u001b[39;49m\u001b[43m,\u001b[49m\u001b[43m \u001b[49m\u001b[32;43m64\u001b[39;49m\u001b[43m]\u001b[49m\u001b[43m,\u001b[49m\u001b[43m \u001b[49m\u001b[38;5;66;43;03m#This specifies how we partition the full FOV \u001b[39;49;00m\n\u001b[32m      3\u001b[39m \u001b[43m                                        \u001b[49m\u001b[43m[\u001b[49m\u001b[32;43m10\u001b[39;49m\u001b[43m,\u001b[49m\u001b[43m \u001b[49m\u001b[32;43m10\u001b[39;49m\u001b[43m]\u001b[49m\u001b[43m,\u001b[49m\u001b[43m \u001b[49m\u001b[38;5;66;43;03m#This specifies by how many pixels the partitions overlap\u001b[39;49;00m\n\u001b[32m      4\u001b[39m \u001b[43m                                        \u001b[49m\u001b[43m[\u001b[49m\u001b[32;43m32\u001b[39;49m\u001b[43m,\u001b[49m\u001b[43m \u001b[49m\u001b[32;43m32\u001b[39;49m\u001b[43m]\u001b[49m\u001b[43m,\u001b[49m\u001b[43m \u001b[49m\u001b[38;5;66;43;03m#This is the generic PMD compression parameter (block size for the actual compression)\u001b[39;49;00m\n\u001b[32m      5\u001b[39m \u001b[43m                                        \u001b[49m\u001b[43mmoco_results\u001b[49m\u001b[43m.\u001b[49m\u001b[43mshape\u001b[49m\u001b[43m[\u001b[49m\u001b[32;43m0\u001b[39;49m\u001b[43m]\u001b[49m\u001b[43m,\u001b[49m\u001b[43m \u001b[49m\u001b[38;5;66;43;03m#Number of frames we use to compress each block\u001b[39;49;00m\n\u001b[32m      6\u001b[39m \u001b[43m                                        \u001b[49m\u001b[43mmax_components\u001b[49m\u001b[43m \u001b[49m\u001b[43m=\u001b[49m\u001b[43m \u001b[49m\u001b[32;43m10\u001b[39;49m\u001b[43m,\u001b[49m\n\u001b[32m      7\u001b[39m \u001b[43m                                        \u001b[49m\u001b[43mbackground_rank\u001b[49m\u001b[43m \u001b[49m\u001b[43m=\u001b[49m\u001b[43m \u001b[49m\u001b[32;43m10\u001b[39;49m\u001b[43m,\u001b[49m\n\u001b[32m      8\u001b[39m \u001b[43m                                        \u001b[49m\u001b[43mdevice\u001b[49m\u001b[43m \u001b[49m\u001b[43m=\u001b[49m\u001b[43m \u001b[49m\u001b[33;43m\"\u001b[39;49m\u001b[33;43mcuda\u001b[39;49m\u001b[33;43m\"\u001b[39;49m\n\u001b[32m      9\u001b[39m \u001b[43m                                       \u001b[49m\u001b[43m)\u001b[49m\n",
      "\u001b[36mFile \u001b[39m\u001b[32m~\\repos\\masknmf-toolbox\\masknmf\\compression\\decomposition.py:1385\u001b[39m, in \u001b[36mpmd_batch\u001b[39m\u001b[34m(dataset, batch_dimensions, batch_overlaps, block_sizes, frame_range, max_components, background_rank, sim_conf, frame_batch_size, max_consecutive_failures, spatial_avg_factor, temporal_avg_factor, window_chunks, compute_normalizer, pixel_weighting, spatial_denoiser, temporal_denoiser, device)\u001b[39m\n\u001b[32m   1379\u001b[39m fov_list.append((slice1, slice2))\n\u001b[32m   1381\u001b[39m display(\n\u001b[32m   1382\u001b[39m     \u001b[33mf\u001b[39m\u001b[33m\"\u001b[39m\u001b[33mProcessing \u001b[39m\u001b[38;5;132;01m{\u001b[39;00mcurr_dim1_start_pt\u001b[38;5;132;01m}\u001b[39;00m\u001b[33m:\u001b[39m\u001b[38;5;132;01m{\u001b[39;00mcurr_dim1_end_pt\u001b[38;5;132;01m}\u001b[39;00m\u001b[33m \u001b[39m\u001b[33m\"\u001b[39m\n\u001b[32m   1383\u001b[39m     \u001b[33mf\u001b[39m\u001b[33m\"\u001b[39m\u001b[33mto \u001b[39m\u001b[38;5;132;01m{\u001b[39;00mcurr_dim2_start_pt\u001b[38;5;132;01m}\u001b[39;00m\u001b[33m:\u001b[39m\u001b[38;5;132;01m{\u001b[39;00mcurr_dim2_end_pt\u001b[38;5;132;01m}\u001b[39;00m\u001b[33m\"\u001b[39m\n\u001b[32m   1384\u001b[39m )\n\u001b[32m-> \u001b[39m\u001b[32m1385\u001b[39m dataset_crop = \u001b[43mdataset\u001b[49m\u001b[43m[\u001b[49m\n\u001b[32m   1386\u001b[39m \u001b[43m    \u001b[49m\u001b[43m:\u001b[49m\u001b[43m,\u001b[49m\n\u001b[32m   1387\u001b[39m \u001b[43m    \u001b[49m\u001b[43mcurr_dim1_start_pt\u001b[49m\u001b[43m:\u001b[49m\u001b[43mcurr_dim1_end_pt\u001b[49m\u001b[43m,\u001b[49m\n\u001b[32m   1388\u001b[39m \u001b[43m    \u001b[49m\u001b[43mcurr_dim2_start_pt\u001b[49m\u001b[43m:\u001b[49m\u001b[43mcurr_dim2_end_pt\u001b[49m\u001b[43m,\u001b[49m\n\u001b[32m   1389\u001b[39m \u001b[43m\u001b[49m\u001b[43m]\u001b[49m\n\u001b[32m   1391\u001b[39m curr_pmd_array = pmd_decomposition(\n\u001b[32m   1392\u001b[39m     dataset_crop,\n\u001b[32m   1393\u001b[39m     block_sizes,\n\u001b[32m   (...)\u001b[39m\u001b[32m   1407\u001b[39m     device=device,\n\u001b[32m   1408\u001b[39m )\n\u001b[32m   1410\u001b[39m pmd_array_list.append(curr_pmd_array)\n",
      "\u001b[36mFile \u001b[39m\u001b[32m~\\repos\\masknmf-toolbox\\masknmf\\arrays\\array_interfaces.py:140\u001b[39m, in \u001b[36mLazyFrameLoader.__getitem__\u001b[39m\u001b[34m(self, item)\u001b[39m\n\u001b[32m    135\u001b[39m     \u001b[38;5;28;01mraise\u001b[39;00m \u001b[38;5;167;01mIndexError\u001b[39;00m(\n\u001b[32m    136\u001b[39m         \u001b[33mf\u001b[39m\u001b[33m\"\u001b[39m\u001b[33mInvalid indexing method, \u001b[39m\u001b[33m\"\u001b[39m \u001b[33mf\u001b[39m\u001b[33m\"\u001b[39m\u001b[33myou have passed a: <\u001b[39m\u001b[38;5;132;01m{\u001b[39;00m\u001b[38;5;28mtype\u001b[39m(item)\u001b[38;5;132;01m}\u001b[39;00m\u001b[33m>\u001b[39m\u001b[33m\"\u001b[39m\n\u001b[32m    137\u001b[39m     )\n\u001b[32m    139\u001b[39m \u001b[38;5;66;03m# Step 3: Now slice the data with frame_indexer (careful: if the ndims has shrunk, add a dim)\u001b[39;00m\n\u001b[32m--> \u001b[39m\u001b[32m140\u001b[39m frames = \u001b[38;5;28;43mself\u001b[39;49m\u001b[43m.\u001b[49m\u001b[43m_compute_at_indices\u001b[49m\u001b[43m(\u001b[49m\u001b[43mframe_indexer\u001b[49m\u001b[43m)\u001b[49m\n\u001b[32m    141\u001b[39m \u001b[38;5;28;01mif\u001b[39;00m \u001b[38;5;28mlen\u001b[39m(frames.shape) < \u001b[38;5;28mlen\u001b[39m(\u001b[38;5;28mself\u001b[39m.shape):\n\u001b[32m    142\u001b[39m     frames = np.expand_dims(frames, axis=\u001b[32m0\u001b[39m)\n",
      "\u001b[36mFile \u001b[39m\u001b[32m~\\repos\\masknmf-toolbox\\masknmf\\motion_correction\\registration_arrays.py:96\u001b[39m, in \u001b[36mRegistrationArray._compute_at_indices\u001b[39m\u001b[34m(self, indices)\u001b[39m\n\u001b[32m     85\u001b[39m \u001b[38;5;28;01mdef\u001b[39;00m\u001b[38;5;250m \u001b[39m\u001b[34m_compute_at_indices\u001b[39m(\u001b[38;5;28mself\u001b[39m, indices: Union[\u001b[38;5;28mlist\u001b[39m, \u001b[38;5;28mint\u001b[39m, \u001b[38;5;28mslice\u001b[39m]) -> np.ndarray:\n\u001b[32m     86\u001b[39m \u001b[38;5;250m    \u001b[39m\u001b[33;03m\"\"\"\u001b[39;00m\n\u001b[32m     87\u001b[39m \u001b[33;03m    Lazy computation logic goes here to return frames. Slices the array over time (dimension 0) at the desired indices.\u001b[39;00m\n\u001b[32m     88\u001b[39m \n\u001b[32m   (...)\u001b[39m\u001b[32m     94\u001b[39m \u001b[33;03m        np.ndarray: array at the indexed slice\u001b[39;00m\n\u001b[32m     95\u001b[39m \u001b[33;03m    \"\"\"\u001b[39;00m\n\u001b[32m---> \u001b[39m\u001b[32m96\u001b[39m     \u001b[38;5;28;01mreturn\u001b[39;00m \u001b[38;5;28;43mself\u001b[39;49m\u001b[43m.\u001b[49m\u001b[43mindex_frames_tensor\u001b[49m\u001b[43m(\u001b[49m\u001b[43mindices\u001b[49m\u001b[43m)\u001b[49m.cpu().numpy()\n",
      "\u001b[36mFile \u001b[39m\u001b[32m~\\repos\\masknmf-toolbox\\masknmf\\motion_correction\\registration_arrays.py:150\u001b[39m, in \u001b[36mRegistrationArray.index_frames_tensor\u001b[39m\u001b[34m(self, idx)\u001b[39m\n\u001b[32m    146\u001b[39m         subset_output = \u001b[38;5;28mself\u001b[39m.strategy.correct(\n\u001b[32m    147\u001b[39m             reference_subset, target_frames=target_subset, device=\u001b[38;5;28mself\u001b[39m.device\n\u001b[32m    148\u001b[39m         )[\u001b[32m0\u001b[39m].cpu()\n\u001b[32m    149\u001b[39m         outputs.append(subset_output)\n\u001b[32m--> \u001b[39m\u001b[32m150\u001b[39m     moco_output = \u001b[43mtorch\u001b[49m\u001b[43m.\u001b[49m\u001b[43mconcatenate\u001b[49m\u001b[43m(\u001b[49m\u001b[43moutputs\u001b[49m\u001b[43m,\u001b[49m\u001b[43m \u001b[49m\u001b[43mdim\u001b[49m\u001b[43m=\u001b[49m\u001b[32;43m0\u001b[39;49m\u001b[43m)\u001b[49m\n\u001b[32m    151\u001b[39m \u001b[38;5;28;01mreturn\u001b[39;00m moco_output\n",
      "\u001b[31mRuntimeError\u001b[39m: [enforce fail at alloc_cpu.cpp:116] data. DefaultCPUAllocator: not enough memory: you tried to allocate 51857096704 bytes."
     ]
    }
   ],
   "source": [
    "pmd_obj = masknmf.compression.pmd_batch(moco_results,\n",
    "                                        [64, 64], #This specifies how we partition the full FOV \n",
    "                                        [10, 10], #This specifies by how many pixels the partitions overlap\n",
    "                                        [32, 32], #This is the generic PMD compression parameter (block size for the actual compression)\n",
    "                                        moco_results.shape[0], #Number of frames we use to compress each block\n",
    "                                        max_components = 10,\n",
    "                                        background_rank = 10,\n",
    "                                        device = \"cuda\"\n",
    "                                       )"
   ]
  },
  {
   "cell_type": "code",
   "execution_count": 19,
   "id": "d87f57f8-589a-4ad6-a029-76b37f0c0027",
   "metadata": {
    "execution": {
     "iopub.execute_input": "2025-04-30T16:32:39.982916Z",
     "iopub.status.busy": "2025-04-30T16:32:39.981916Z",
     "iopub.status.idle": "2025-04-30T16:32:39.985963Z",
     "shell.execute_reply": "2025-04-30T16:32:39.985441Z",
     "shell.execute_reply.started": "2025-04-30T16:32:39.982916Z"
    }
   },
   "outputs": [],
   "source": [
    "pmd_obj.to('cuda')"
   ]
  },
  {
   "cell_type": "code",
   "execution_count": 9,
   "id": "b02b64da-5980-4f66-a704-2360721cfbc0",
   "metadata": {
    "execution": {
     "iopub.execute_input": "2025-04-30T16:21:13.105925Z",
     "iopub.status.busy": "2025-04-30T16:21:13.105925Z",
     "iopub.status.idle": "2025-04-30T16:21:15.303726Z",
     "shell.execute_reply": "2025-04-30T16:21:15.303726Z",
     "shell.execute_reply.started": "2025-04-30T16:21:13.105925Z"
    }
   },
   "outputs": [
    {
     "data": {
      "application/vnd.jupyter.widget-view+json": {
       "model_id": "e6b43e2dc0924cd8bcffc471cd239aec",
       "version_major": 2,
       "version_minor": 0
      },
      "text/plain": [
       "RFBOutputContext()"
      ]
     },
     "metadata": {},
     "output_type": "display_data"
    },
    {
     "name": "stderr",
     "output_type": "stream",
     "text": [
      "C:\\Users\\RBO\\repos\\masknmf-toolbox\\.venv\\Lib\\site-packages\\fastplotlib\\graphics\\_features\\_base.py:18: UserWarning: casting float64 array to float32\n",
      "  warn(f\"casting {array.dtype} array to float32\")\n"
     ]
    },
    {
     "data": {
      "application/vnd.jupyter.widget-view+json": {
       "model_id": "a20e607c3b1e468891724c202100a14a",
       "version_major": 2,
       "version_minor": 0
      },
      "text/html": [
       "<div class='snapshot-a20e607c3b1e468891724c202100a14a' style='position:relative;'><img src='data:image/png;base64,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' style='width:500.0px;height:300.0px;' /><div style='position: absolute; top:0; left:0; padding:1px 3px; background: #777; color:#fff; font-size: 90%; font-family:sans-serif; '>snapshot</div></div>"
      ],
      "text/plain": [
       "JupyterRenderCanvas(css_height='300.0px', css_width='500.0px')"
      ]
     },
     "execution_count": 9,
     "metadata": {},
     "output_type": "execute_result"
    }
   ],
   "source": [
    "iw = fpl.ImageWidget(data = [pmd_obj[:200, 200:712, 200:712], data[:200, 200:712, 200:712]])\n",
    "iw.cmap = \"gray\"\n",
    "iw.show()"
   ]
  },
  {
   "cell_type": "code",
   "execution_count": 10,
   "id": "71bbbcd6-9746-4fc8-9baa-c963fa71e875",
   "metadata": {
    "execution": {
     "iopub.execute_input": "2025-04-30T16:24:18.655958Z",
     "iopub.status.busy": "2025-04-30T16:24:18.655958Z",
     "iopub.status.idle": "2025-04-30T16:24:18.658571Z",
     "shell.execute_reply": "2025-04-30T16:24:18.658571Z",
     "shell.execute_reply.started": "2025-04-30T16:24:18.655958Z"
    }
   },
   "outputs": [],
   "source": [
    "iw.close()"
   ]
  },
  {
   "cell_type": "code",
   "execution_count": 20,
   "id": "08260343-0245-437b-9dac-6835b2a68819",
   "metadata": {
    "execution": {
     "iopub.execute_input": "2025-04-30T16:32:44.658736Z",
     "iopub.status.busy": "2025-04-30T16:32:44.658736Z",
     "iopub.status.idle": "2025-04-30T16:32:44.661847Z",
     "shell.execute_reply": "2025-04-30T16:32:44.661847Z",
     "shell.execute_reply.started": "2025-04-30T16:32:44.658736Z"
    }
   },
   "outputs": [],
   "source": [
    "num_frames, fov_dim1, fov_dim2 = pmd_obj.shape\n",
    "device = 'cuda'\n",
    "pmd_demixer = masknmf.demixing.signal_demixer.SignalDemixer(\n",
    "                                                pmd_obj,\n",
    "                                                device=device,\n",
    "                                                frame_batch_size=100)"
   ]
  },
  {
   "cell_type": "code",
   "execution_count": 24,
   "id": "73a2e49e-75cc-4b54-972b-2ec51df9d5f9",
   "metadata": {
    "execution": {
     "iopub.execute_input": "2025-04-30T16:58:53.464694Z",
     "iopub.status.busy": "2025-04-30T16:58:53.464694Z",
     "iopub.status.idle": "2025-04-30T16:58:54.014737Z",
     "shell.execute_reply": "2025-04-30T16:58:54.014737Z",
     "shell.execute_reply.started": "2025-04-30T16:58:53.464694Z"
    }
   },
   "outputs": [
    {
     "name": "stdout",
     "output_type": "stream",
     "text": [
      "find superpixels!\n",
      "find pure superpixels!\n",
      "prepare iteration!\n"
     ]
    },
    {
     "data": {
      "image/png": "[encoded data removed]",
      "text/plain": [
       "<Figure size 400x1200 with 4 Axes>"
      ]
     },
     "metadata": {},
     "output_type": "display_data"
    },
    {
     "name": "stdout",
     "output_type": "stream",
     "text": [
      "Identified 24 neurons here\n"
     ]
    }
   ],
   "source": [
    "init_kwargs = {\n",
    "    #Worth modifying\n",
    "    'mad_correlation_threshold':0.05,\n",
    "\n",
    "    #Mostly stable\n",
    "    'min_superpixel_size':5,\n",
    "    'robust_corr_term':1,\n",
    "    'mad_threshold':12,\n",
    "    'residual_threshold': 0.3,\n",
    "    'patch_size':(40, 40),\n",
    "    'plot_en':True,\n",
    "    'text':False,\n",
    "}\n",
    "\n",
    "pmd_demixer.initialize_signals(**init_kwargs, is_custom = False)\n",
    "print(f\"Identified {pmd_demixer.results[0].shape[1]} neurons here\")"
   ]
  },
  {
   "cell_type": "code",
   "execution_count": 13,
   "id": "57d268c0-eefe-43e5-ae20-5121edf3e85b",
   "metadata": {
    "execution": {
     "iopub.execute_input": "2025-04-30T16:29:32.851279Z",
     "iopub.status.busy": "2025-04-30T16:29:32.851279Z",
     "iopub.status.idle": "2025-04-30T16:29:33.098820Z",
     "shell.execute_reply": "2025-04-30T16:29:33.098820Z",
     "shell.execute_reply.started": "2025-04-30T16:29:32.851279Z"
    }
   },
   "outputs": [
    {
     "name": "stdout",
     "output_type": "stream",
     "text": [
      "Now in demixing state\n"
     ]
    }
   ],
   "source": [
    "pmd_demixer.lock_results_and_continue()"
   ]
  },
  {
   "cell_type": "code",
   "execution_count": 14,
   "id": "b2a2e3c1-1d88-44ac-862f-2ab305f0111b",
   "metadata": {
    "execution": {
     "iopub.execute_input": "2025-04-30T16:29:33.866609Z",
     "iopub.status.busy": "2025-04-30T16:29:33.866609Z",
     "iopub.status.idle": "2025-04-30T16:31:05.511486Z",
     "shell.execute_reply": "2025-04-30T16:31:05.511486Z",
     "shell.execute_reply.started": "2025-04-30T16:29:33.866609Z"
    }
   },
   "outputs": [
    {
     "name": "stderr",
     "output_type": "stream",
     "text": [
      " 16%|█████████▍                                                 | 4/25 [01:29<07:48, 22.29s/it]\n"
     ]
    },
    {
     "ename": "KeyboardInterrupt",
     "evalue": "",
     "output_type": "error",
     "traceback": [
      "\u001b[31m---------------------------------------------------------------------------\u001b[39m",
      "\u001b[31mKeyboardInterrupt\u001b[39m                         Traceback (most recent call last)",
      "\u001b[36mCell\u001b[39m\u001b[36m \u001b[39m\u001b[32mIn[14]\u001b[39m\u001b[32m, line 21\u001b[39m\n\u001b[32m     19\u001b[39m start_time = time.time()\n\u001b[32m     20\u001b[39m \u001b[38;5;28;01mwith\u001b[39;00m torch.no_grad():\n\u001b[32m---> \u001b[39m\u001b[32m21\u001b[39m     \u001b[43mpmd_demixer\u001b[49m\u001b[43m.\u001b[49m\u001b[43mdemix\u001b[49m\u001b[43m(\u001b[49m\u001b[43m*\u001b[49m\u001b[43m*\u001b[49m\u001b[43mlocalnmf_params\u001b[49m\u001b[43m)\u001b[49m\n\u001b[32m     22\u001b[39m \u001b[38;5;28mprint\u001b[39m(\u001b[33mf\u001b[39m\u001b[33m\"\u001b[39m\u001b[33mthat took \u001b[39m\u001b[38;5;132;01m{\u001b[39;00mtime.time()\u001b[38;5;250m \u001b[39m-\u001b[38;5;250m \u001b[39mstart_time\u001b[38;5;132;01m}\u001b[39;00m\u001b[33m\"\u001b[39m)\n\u001b[32m     23\u001b[39m \u001b[38;5;28mprint\u001b[39m(\u001b[33mf\u001b[39m\u001b[33m\"\u001b[39m\u001b[33mafter this step \u001b[39m\u001b[38;5;132;01m{\u001b[39;00mpmd_demixer.results.a.shape[\u001b[32m1\u001b[39m]\u001b[38;5;132;01m}\u001b[39;00m\u001b[33m signals identified\u001b[39m\u001b[33m\"\u001b[39m)\n",
      "\u001b[36mFile \u001b[39m\u001b[32m~\\repos\\masknmf-toolbox\\masknmf\\demixing\\signal_demixer.py:1940\u001b[39m, in \u001b[36mSignalDemixer.demix\u001b[39m\u001b[34m(self, **kwargs)\u001b[39m\n\u001b[32m   1939\u001b[39m \u001b[38;5;28;01mdef\u001b[39;00m\u001b[38;5;250m \u001b[39m\u001b[34mdemix\u001b[39m(\u001b[38;5;28mself\u001b[39m, **kwargs):\n\u001b[32m-> \u001b[39m\u001b[32m1940\u001b[39m     \u001b[38;5;28;43mself\u001b[39;49m\u001b[43m.\u001b[49m\u001b[43m_state\u001b[49m\u001b[43m.\u001b[49m\u001b[43mdemix\u001b[49m\u001b[43m(\u001b[49m\u001b[43m*\u001b[49m\u001b[43m*\u001b[49m\u001b[43mkwargs\u001b[49m\u001b[43m)\u001b[49m\n",
      "\u001b[36mFile \u001b[39m\u001b[32m~\\repos\\masknmf-toolbox\\masknmf\\demixing\\signal_demixer.py:2893\u001b[39m, in \u001b[36mDemixingState.demix\u001b[39m\u001b[34m(self, maxiter, support_threshold, deletion_threshold, ring_model_start_pt, ring_radius, merge_threshold, merge_overlap_threshold, update_frequency, c_nonneg, denoise, plot_en)\u001b[39m\n\u001b[32m   2890\u001b[39m \u001b[38;5;28mself\u001b[39m.static_baseline_update()\n\u001b[32m   2892\u001b[39m \u001b[38;5;28;01mif\u001b[39;00m iters >= ring_model_start_pt:\n\u001b[32m-> \u001b[39m\u001b[32m2893\u001b[39m     \u001b[38;5;28;43mself\u001b[39;49m\u001b[43m.\u001b[49m\u001b[43mfluctuating_baseline_update\u001b[49m\u001b[43m(\u001b[49m\u001b[43m)\u001b[49m\n\u001b[32m   2894\u001b[39m \u001b[38;5;28;01melse\u001b[39;00m:\n\u001b[32m   2895\u001b[39m     \u001b[38;5;28;01mpass\u001b[39;00m\n",
      "\u001b[36mFile \u001b[39m\u001b[32m~\\repos\\masknmf-toolbox\\masknmf\\demixing\\signal_demixer.py:2540\u001b[39m, in \u001b[36mDemixingState.fluctuating_baseline_update\u001b[39m\u001b[34m(self)\u001b[39m\n\u001b[32m   2536\u001b[39m \u001b[38;5;250m\u001b[39m\u001b[33;03m\"\"\"\u001b[39;00m\n\u001b[32m   2537\u001b[39m \u001b[33;03mPerforms a fluctuating baseline update\u001b[39;00m\n\u001b[32m   2538\u001b[39m \u001b[33;03m\"\"\"\u001b[39;00m\n\u001b[32m   2539\u001b[39m \u001b[38;5;28mself\u001b[39m.update_ring_model_support()\n\u001b[32m-> \u001b[39m\u001b[32m2540\u001b[39m \u001b[38;5;28;43mself\u001b[39;49m\u001b[43m.\u001b[49m\u001b[43mring_model_weight_update\u001b[49m\u001b[43m(\u001b[49m\u001b[43m)\u001b[49m\n",
      "\u001b[36mFile \u001b[39m\u001b[32m~\\repos\\masknmf-toolbox\\masknmf\\demixing\\signal_demixer.py:2461\u001b[39m, in \u001b[36mDemixingState.ring_model_weight_update\u001b[39m\u001b[34m(self)\u001b[39m\n\u001b[32m   2457\u001b[39m inds = torch.arange(\n\u001b[32m   2458\u001b[39m     start, min_pmd, device=\u001b[38;5;28mself\u001b[39m.device, dtype=torch.long\n\u001b[32m   2459\u001b[39m )\n\u001b[32m   2460\u001b[39m curr_u_dense = torch.index_select(\u001b[38;5;28mself\u001b[39m.u_sparse, \u001b[32m1\u001b[39m, inds).to_dense()\n\u001b[32m-> \u001b[39m\u001b[32m2461\u001b[39m wu = \u001b[38;5;28;43mself\u001b[39;49m\u001b[43m.\u001b[49m\u001b[43mW\u001b[49m\u001b[43m.\u001b[49m\u001b[43mforward\u001b[49m\u001b[43m(\u001b[49m\u001b[43mcurr_u_dense\u001b[49m\u001b[43m)\u001b[49m\n\u001b[32m   2462\u001b[39m uvvt = torch.sparse.mm(\u001b[38;5;28mself\u001b[39m.u_sparse, vvt[:, inds])\n\u001b[32m   2463\u001b[39m wuvvt = \u001b[38;5;28mself\u001b[39m.W.forward(uvvt)  \u001b[38;5;66;03m# wu @ vvt\u001b[39;00m\n",
      "\u001b[36mFile \u001b[39m\u001b[32m~\\repos\\masknmf-toolbox\\masknmf\\demixing\\background_estimation.py:166\u001b[39m, in \u001b[36mRingModel.forward\u001b[39m\u001b[34m(self, images)\u001b[39m\n\u001b[32m    163\u001b[39m     convolved_stack = torch.permute(convolved_stack, (\u001b[32m1\u001b[39m, \u001b[32m2\u001b[39m, \u001b[32m0\u001b[39m))\n\u001b[32m    164\u001b[39m convolved_stack = convolved_stack.reshape((\u001b[38;5;28mself\u001b[39m.shape[\u001b[32m0\u001b[39m] * \u001b[38;5;28mself\u001b[39m.shape[\u001b[32m1\u001b[39m], -\u001b[32m1\u001b[39m))\n\u001b[32m--> \u001b[39m\u001b[32m166\u001b[39m \u001b[38;5;28;01mreturn\u001b[39;00m \u001b[43mtorch\u001b[49m\u001b[43m.\u001b[49m\u001b[43msparse\u001b[49m\u001b[43m.\u001b[49m\u001b[43mmm\u001b[49m\u001b[43m(\u001b[49m\u001b[38;5;28;43mself\u001b[39;49m\u001b[43m.\u001b[49m\u001b[43mweights\u001b[49m\u001b[43m,\u001b[49m\u001b[43m \u001b[49m\u001b[43mconvolved_stack\u001b[49m\u001b[43m)\u001b[49m\n",
      "\u001b[31mKeyboardInterrupt\u001b[39m: "
     ]
    }
   ],
   "source": [
    "## Demixing State\n",
    "\n",
    "num_iters = 25\n",
    "## Now run demixing...\n",
    "localnmf_params = {\n",
    "    'maxiter':num_iters,\n",
    "    'support_threshold':np.linspace(0.999, 0.8, num_iters).tolist(),\n",
    "    'deletion_threshold':0.2,\n",
    "    'ring_model_start_pt': 4,\n",
    "    'ring_radius':20,\n",
    "    'merge_threshold':0.8,\n",
    "    'merge_overlap_threshold':0.8,\n",
    "    'update_frequency':4,\n",
    "    'c_nonneg':True,\n",
    "    'denoise':False,\n",
    "    'plot_en': True\n",
    "}\n",
    "\n",
    "start_time = time.time()\n",
    "with torch.no_grad():\n",
    "    pmd_demixer.demix(**localnmf_params)\n",
    "print(f\"that took {time.time() - start_time}\")\n",
    "print(f\"after this step {pmd_demixer.results.a.shape[1]} signals identified\")\n",
    "\n"
   ]
  },
  {
   "cell_type": "code",
   "execution_count": null,
   "id": "7a65fc21-90d2-49ce-a4cb-933e94193c71",
   "metadata": {
    "execution": {
     "iopub.status.busy": "2025-04-30T16:31:05.511486Z",
     "iopub.status.idle": "2025-04-30T16:31:05.512484Z",
     "shell.execute_reply": "2025-04-30T16:31:05.511486Z",
     "shell.execute_reply.started": "2025-04-30T16:31:05.511486Z"
    }
   },
   "outputs": [],
   "source": [
    "# If desired, you can view the demixing results at this stage \n",
    "iw = masknmf.visualization.make_demixing_video(pmd_demixer.results,\n",
    "                    device,\n",
    "                    show_histogram = True,\n",
    "                    v_range = [-100, 300])\n",
    "\n",
    "iw.show()"
   ]
  },
  {
   "cell_type": "code",
   "execution_count": 29,
   "id": "b3700c99-a2c1-4c2f-9051-04e150c02093",
   "metadata": {},
   "outputs": [
    {
     "name": "stdout",
     "output_type": "stream",
     "text": [
      "Now in the initialization state\n"
     ]
    }
   ],
   "source": [
    "# Move to next stage demixing\n",
    "pmd_demixer.lock_results_and_continue(carry_background=True)"
   ]
  },
  {
   "cell_type": "code",
   "execution_count": 4,
   "id": "8826d376-796f-41e3-b918-1ed49a84ff03",
   "metadata": {},
   "outputs": [],
   "source": [
    "init_kwargs = {\n",
    "    #Worth modifying\n",
    "    'mad_correlation_threshold':0.7,\n",
    "    'min_superpixel_size':5,\n",
    "    'robust_corr_term':1,\n",
    "\n",
    "    #Mostly stable\n",
    "    'mad_threshold':3,\n",
    "    'residual_threshold': 0.3,\n",
    "    'patch_size':(40, 40),\n",
    "    'plot_en':True,\n",
    "    'text':False,\n",
    "}\n",
    "\n",
    "pmd_demixer.initialize_signals(**init_kwargs, is_custom = False)\n",
    "print(f\"Identified {pmd_demixer.results[0].shape[1]} neurons here\")"
   ]
  },
  {
   "cell_type": "code",
   "execution_count": 31,
   "id": "66cf3dd2-1d8f-48ec-82df-09d97086a11c",
   "metadata": {},
   "outputs": [
    {
     "name": "stdout",
     "output_type": "stream",
     "text": [
      "Now in demixing state\n"
     ]
    }
   ],
   "source": [
    "pmd_demixer.lock_results_and_continue(carry_background=True)"
   ]
  },
  {
   "cell_type": "code",
   "execution_count": 32,
   "id": "7f0556c6-3552-4b3f-a59e-4735c3e5b827",
   "metadata": {},
   "outputs": [
    {
     "name": "stderr",
     "output_type": "stream",
     "text": [
      "100%|███████████████████████████████████████████████████████████████████████████████████████████████████████████████████████████████████████████████████████████████████████████████████████████████████████████████████████████████████████████| 25/25 [00:19<00:00,  1.27it/s]"
     ]
    },
    {
     "name": "stdout",
     "output_type": "stream",
     "text": [
      "that took 19.98130965232849\n",
      "after this step 22 signals identified\n"
     ]
    },
    {
     "name": "stderr",
     "output_type": "stream",
     "text": [
      "\n"
     ]
    }
   ],
   "source": [
    "num_iters = 25\n",
    "## Now run demixing...\n",
    "localnmf_params = {\n",
    "    'maxiter':num_iters,\n",
    "    'support_threshold':np.linspace(0.999, 0.7, num_iters).tolist(),\n",
    "    'deletion_threshold':0.2,\n",
    "    'ring_model_start_pt': 4,\n",
    "    'ring_radius':20,\n",
    "    'merge_threshold':0.8,\n",
    "    'merge_overlap_threshold':0.8,\n",
    "    'update_frequency':4,\n",
    "    'c_nonneg':True,\n",
    "    'denoise':False,\n",
    "    'plot_en': True\n",
    "}\n",
    "\n",
    "start_time = time.time()\n",
    "with torch.no_grad():\n",
    "    pmd_demixer.demix(**localnmf_params)\n",
    "print(f\"that took {time.time() - start_time}\")\n",
    "print(f\"after this step {pmd_demixer.results.a.shape[1]} signals identified\")\n",
    "\n"
   ]
  },
  {
   "cell_type": "code",
   "execution_count": 33,
   "id": "5e09c4a3-2fbc-44aa-864c-54e362491cf5",
   "metadata": {},
   "outputs": [
    {
     "data": {
      "application/vnd.jupyter.widget-view+json": {
       "model_id": "f4216541be694427a9a8796d3658ef4a",
       "version_major": 2,
       "version_minor": 0
      },
      "text/plain": [
       "RFBOutputContext()"
      ]
     },
     "metadata": {},
     "output_type": "display_data"
    },
    {
     "data": {
      "application/vnd.jupyter.widget-view+json": {
       "model_id": "48948e398f854cb49af936c05703eece",
       "version_major": 2,
       "version_minor": 0
      },
      "text/html": [
       "<div class='snapshot-48948e398f854cb49af936c05703eece' style='position:relative;'><img src='data:image/png;base64,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' style='width:500.0px;height:300.0px;' /><div style='position: absolute; top:0; left:0; padding:1px 3px; background: #777; color:#fff; font-size: 90%; font-family:sans-serif; '>snapshot</div></div>"
      ],
      "text/plain": [
       "JupyterRenderCanvas(css_height='300.0px', css_width='500.0px')"
      ]
     },
     "execution_count": 33,
     "metadata": {},
     "output_type": "execute_result"
    }
   ],
   "source": [
    "iw = masknmf.visualization.make_demixing_video(pmd_demixer.results,\n",
    "                    device,\n",
    "                    show_histogram = True,\n",
    "                    v_range = [-100, 300])\n",
    "\n",
    "iw.show()"
   ]
  },
  {
   "cell_type": "code",
   "execution_count": 34,
   "id": "e4ed0952-5540-4eaa-85a0-4290e14b0af9",
   "metadata": {},
   "outputs": [
    {
     "name": "stdout",
     "output_type": "stream",
     "text": [
      "Index file \"neurons_darcy_apr29_t2/index.html\" created successfully.\n"
     ]
    }
   ],
   "source": [
    "## Specify which folder things get saved to: \n",
    "folder = 'neurons_darcy_apr29_t2'\n",
    "if os.path.exists(folder):\n",
    "    raise ValueError(f\"folder {folder} already exists. delete it or pick different folder name\")\n",
    "else:\n",
    "    os.mkdir(folder)\n",
    "\n",
    "results = pmd_demixer.results\n",
    "\n",
    "for i in range(results.a.shape[1]):\n",
    "    name = f\"neuron_{i}.html\"\n",
    "    masknmf.visualization.plot_ith_roi(i, results, folder=folder, name=name, radius = 30, residual_mode = masknmf.ResidCorrMode.RESIDUAL)\n",
    "\n",
    "masknmf.visualization.construct_index(folder)"
   ]
  },
  {
   "cell_type": "code",
   "execution_count": null,
   "id": "465fe8cf-914a-4dbc-9dd7-0bb53850403d",
   "metadata": {},
   "outputs": [],
   "source": [
    "#NOTE: You can open \"index.html\" and \"scroll\" through the above results in the folder"
   ]
  },
  {
   "cell_type": "code",
   "execution_count": null,
   "id": "28bc9f0c-6659-448e-b823-adc39ccba02e",
   "metadata": {},
   "outputs": [],
   "source": []
  }
 ],
 "metadata": {
  "kernelspec": {
   "display_name": "Python 3 (ipykernel)",
   "language": "python",
   "name": "python3"
  },
  "language_info": {
   "codemirror_mode": {
    "name": "ipython",
    "version": 3
   },
   "file_extension": ".py",
   "mimetype": "text/x-python",
   "name": "python",
   "nbconvert_exporter": "python",
   "pygments_lexer": "ipython3",
   "version": "3.12.3"
  }
 },
 "nbformat": 4,
 "nbformat_minor": 5
}
