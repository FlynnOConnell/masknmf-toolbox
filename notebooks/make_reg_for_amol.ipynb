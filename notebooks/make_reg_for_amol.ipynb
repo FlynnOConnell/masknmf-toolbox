{
 "cells": [
  {
   "cell_type": "code",
   "execution_count": 1,
   "id": "0c5dfaac-a56d-447f-a66a-dbec2277e321",
   "metadata": {
    "execution": {
     "iopub.execute_input": "2025-05-02T02:40:27.577378Z",
     "iopub.status.busy": "2025-05-02T02:40:27.576379Z",
     "iopub.status.idle": "2025-05-02T02:40:31.183372Z",
     "shell.execute_reply": "2025-05-02T02:40:31.183372Z",
     "shell.execute_reply.started": "2025-05-02T02:40:27.577378Z"
    }
   },
   "outputs": [
    {
     "name": "stderr",
     "output_type": "stream",
     "text": [
      "\u001b[2mUsing Python 3.12.3 environment at: C:\\Users\\RBO\\repos\\masknmf-toolbox\\.venv\u001b[0m\n",
      "\u001b[2mResolved \u001b[1m155 packages\u001b[0m \u001b[2min 381ms\u001b[0m\u001b[0m\n",
      "\u001b[2mPrepared \u001b[1m3 packages\u001b[0m \u001b[2min 158ms\u001b[0m\u001b[0m\n",
      "\u001b[2mUninstalled \u001b[1m1 package\u001b[0m \u001b[2min 192ms\u001b[0m\u001b[0m\n",
      "\u001b[2mInstalled \u001b[1m19 packages\u001b[0m \u001b[2min 2.69s\u001b[0m\u001b[0m\n",
      " \u001b[32m+\u001b[39m \u001b[1mcrc32c\u001b[0m\u001b[2m==2.7.1\u001b[0m\n",
      " \u001b[32m+\u001b[39m \u001b[1mdonfig\u001b[0m\u001b[2m==0.8.1.post1\u001b[0m\n",
      " \u001b[32m+\u001b[39m \u001b[1mffmpeg-python\u001b[0m\u001b[2m==0.2.0\u001b[0m\n",
      " \u001b[32m+\u001b[39m \u001b[1mimageio-ffmpeg\u001b[0m\u001b[2m==0.6.0\u001b[0m\n",
      " \u001b[32m+\u001b[39m \u001b[1mintel-cmplr-lib-ur\u001b[0m\u001b[2m==2025.1.1\u001b[0m\n",
      " \u001b[32m+\u001b[39m \u001b[1mintel-openmp\u001b[0m\u001b[2m==2025.1.1\u001b[0m\n",
      " \u001b[32m+\u001b[39m \u001b[1mmbo-utilities\u001b[0m\u001b[2m==0.1.1\u001b[0m\n",
      " \u001b[32m+\u001b[39m \u001b[1mmkl\u001b[0m\u001b[2m==2025.1.0\u001b[0m\n",
      " \u001b[32m+\u001b[39m \u001b[1mmkl-fft\u001b[0m\u001b[2m==1.3.14\u001b[0m\n",
      " \u001b[32m+\u001b[39m \u001b[1mmkl-service\u001b[0m\u001b[2m==2.4.2\u001b[0m\n",
      " \u001b[32m+\u001b[39m \u001b[1mnumcodecs\u001b[0m\u001b[2m==0.16.0\u001b[0m\n",
      " \u001b[31m-\u001b[39m \u001b[1mnumpy\u001b[0m\u001b[2m==2.2.5\u001b[0m\n",
      " \u001b[32m+\u001b[39m \u001b[1mnumpy\u001b[0m\u001b[2m==1.26.4\u001b[0m\n",
      " \u001b[32m+\u001b[39m \u001b[1mpyqt5\u001b[0m\u001b[2m==5.15.11\u001b[0m\n",
      " \u001b[32m+\u001b[39m \u001b[1mpyqt5-qt5\u001b[0m\u001b[2m==5.15.2\u001b[0m\n",
      " \u001b[32m+\u001b[39m \u001b[1mpyqt5-sip\u001b[0m\u001b[2m==12.17.0\u001b[0m\n",
      " \u001b[32m+\u001b[39m \u001b[1mtbb\u001b[0m\u001b[2m==2022.1.0\u001b[0m\n",
      " \u001b[32m+\u001b[39m \u001b[1mtcmlib\u001b[0m\u001b[2m==1.3.0\u001b[0m\n",
      " \u001b[32m+\u001b[39m \u001b[1mumf\u001b[0m\u001b[2m==0.10.0\u001b[0m\n",
      " \u001b[32m+\u001b[39m \u001b[1mzarr\u001b[0m\u001b[2m==3.0.7\u001b[0m\n"
     ]
    }
   ],
   "source": [
    "!uv pip install mbo_utilities"
   ]
  },
  {
   "cell_type": "code",
   "execution_count": 2,
   "id": "d3be78eb-0b35-40c2-a3f9-86b9eef563ef",
   "metadata": {
    "execution": {
     "iopub.execute_input": "2025-05-02T02:40:35.980143Z",
     "iopub.status.busy": "2025-05-02T02:40:35.979583Z",
     "iopub.status.idle": "2025-05-02T02:40:39.128760Z",
     "shell.execute_reply": "2025-05-02T02:40:39.128760Z",
     "shell.execute_reply.started": "2025-05-02T02:40:35.980143Z"
    }
   },
   "outputs": [
    {
     "data": {
      "application/vnd.jupyter.widget-view+json": {
       "model_id": "6e810a73723f4b778dd241715d87f717",
       "version_major": 2,
       "version_minor": 0
      },
      "text/plain": [
       "Image(value=b'\\x89PNG\\r\\n\\x1a\\n\\x00\\x00\\x00\\rIHDR\\x00\\x00\\x01,\\x00\\x00\\x007\\x08\\x06\\x00\\x00\\x00\\xb6\\x1bw\\x99\\x…"
      ]
     },
     "metadata": {},
     "output_type": "display_data"
    },
    {
     "data": {
      "text/html": [
       "<b>Available devices:</b><table><tr><th>Valid</th><th>Device</th><th>Type</th><th>Backend</th><th>Driver</th></tr><tr title=\"This adapter can be used with fastplotlib\"><td>✅ (default) </td><td>NVIDIA RTX A4000</td><td>DiscreteGPU</td><td>Vulkan</td><td>560.94</td></tr><tr title=\"This adapter can be used with fastplotlib\"><td>✅</td><td>NVIDIA RTX A4000</td><td>DiscreteGPU</td><td>D3D12</td><td></td></tr><tr title=\"This adapter can be used with fastplotlib\"><td>✅</td><td>NVIDIA RTX A4000</td><td>DiscreteGPU</td><td>D3D12</td><td></td></tr><tr title=\"CPU rendering support is limited and mainly for testing purposes\"><td>❗ limited</td><td>Microsoft Basic Render Driver</td><td>CPU</td><td>D3D12</td><td></td></tr><tr title=\"This adapter cannot be used with fastplotlib\"><td>❌</td><td>NVIDIA RTX A4000/PCIe/SSE2</td><td>Unknown</td><td>OpenGL</td><td>4.6.0 NVIDIA 560.94</td></tr></table>"
      ],
      "text/plain": [
       "<IPython.core.display.HTML object>"
      ]
     },
     "metadata": {},
     "output_type": "display_data"
    }
   ],
   "source": [
    "import mbo_utilities as mbo"
   ]
  }
 ],
 "metadata": {
  "kernelspec": {
   "display_name": "Python 3 (ipykernel)",
   "language": "python",
   "name": "python3"
  },
  "language_info": {
   "codemirror_mode": {
    "name": "ipython",
    "version": 3
   },
   "file_extension": ".py",
   "mimetype": "text/x-python",
   "name": "python",
   "nbconvert_exporter": "python",
   "pygments_lexer": "ipython3",
   "version": "3.12.3"
  }
 },
 "nbformat": 4,
 "nbformat_minor": 5
}
